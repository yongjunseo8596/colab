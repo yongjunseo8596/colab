{
  "nbformat": 4,
  "nbformat_minor": 0,
  "metadata": {
    "colab": {
      "name": "lession1-1.ipynb",
      "provenance": [],
      "authorship_tag": "ABX9TyORfB7UCe0n1uL0AkRP0Lb8",
      "include_colab_link": true
    },
    "kernelspec": {
      "name": "python3",
      "display_name": "Python 3"
    },
    "language_info": {
      "name": "python"
    }
  },
  "cells": [
    {
      "cell_type": "markdown",
      "metadata": {
        "id": "view-in-github",
        "colab_type": "text"
      },
      "source": [
        "<a href=\"https://colab.research.google.com/github/yongjunseo8596/colab/blob/main/lession1_1.ipynb\" target=\"_parent\"><img src=\"https://colab.research.google.com/assets/colab-badge.svg\" alt=\"Open In Colab\"/></a>"
      ]
    },
    {
      "cell_type": "markdown",
      "source": [
        "# 파이썬 시작하기\n",
        "\n",
        "*   프로그램이란?\n",
        " * 컴퓨터와 스마트폰에 들어 있는 많은 소프트웨어 유튜브, 메시지, 전화, 카카오톡 등 \n",
        " * 프로그램, 소프트웨어, 애플리케이션, 앱, 응용 프로그램 모두 동일한 용어입니다.\n",
        "\n",
        "* 프로그래밍\n",
        " * 프로그램을 만드는 작업\n",
        "\n",
        "* 프로그래밍 언어\n",
        " * 사람이 이해하는 말을 언어라고 부르듯이 컴퓨터가 이해하는 언어를 의미\n",
        "\n",
        "* 프로그래머\n",
        " * 프로그래밍 언어를 사용하여 소프트웨어나 앱을 만드는 직업을 가진사람을 의미\n",
        "\n",
        "\n"
      ],
      "metadata": {
        "id": "84fB5lA5GiES"
      }
    },
    {
      "cell_type": "markdown",
      "source": [
        ""
      ],
      "metadata": {
        "id": "EFJ1KbifIUqq"
      }
    },
    {
      "cell_type": "markdown",
      "source": [
        "예제"
      ],
      "metadata": {
        "id": "Iv6UXbSnPUTC"
      }
    },
    {
      "cell_type": "code",
      "execution_count": 2,
      "metadata": {
        "colab": {
          "base_uri": "https://localhost:8080/"
        },
        "id": "JHI8OiuaGRXm",
        "outputId": "2ecb4172-6908-45d1-eb78-51cf51ea6380"
      },
      "outputs": [
        {
          "output_type": "stream",
          "name": "stdout",
          "text": [
            "400\n"
          ]
        }
      ],
      "source": [
        "print(100+300)"
      ]
    },
    {
      "cell_type": "markdown",
      "source": [
        "예제2"
      ],
      "metadata": {
        "id": "iM7meQHuPW_r"
      }
    },
    {
      "cell_type": "code",
      "source": [
        "print(200/3*4)"
      ],
      "metadata": {
        "colab": {
          "base_uri": "https://localhost:8080/"
        },
        "id": "7ZDRW0Y1PaKZ",
        "outputId": "d3c0e076-f743-4c5b-8434-441baf7a4098"
      },
      "execution_count": 3,
      "outputs": [
        {
          "output_type": "stream",
          "name": "stdout",
          "text": [
            "266.6666666666667\n"
          ]
        }
      ]
    },
    {
      "cell_type": "code",
      "source": [
        "print(\"난생처음 파이썬을\")\n",
        "print(\"열심히 공부 중입니다\")\n",
        "print(\"이젠 저도 파이썬 프로그래머입니다\")"
      ],
      "metadata": {
        "colab": {
          "base_uri": "https://localhost:8080/"
        },
        "id": "vWXUGfZqPvrb",
        "outputId": "5f877864-c742-4814-f514-54a59327081f"
      },
      "execution_count": 5,
      "outputs": [
        {
          "output_type": "stream",
          "name": "stdout",
          "text": [
            "난생처음 파이썬을\n",
            "열심히 공부 중입니다\n",
            "이젠 저도 파이썬 프로그래머입니다\n"
          ]
        }
      ]
    },
    {
      "cell_type": "code",
      "source": [
        ""
      ],
      "metadata": {
        "id": "AwuAItviPZpS"
      },
      "execution_count": null,
      "outputs": []
    }
  ]
}