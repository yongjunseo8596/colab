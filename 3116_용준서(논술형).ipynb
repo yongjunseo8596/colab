{
  "nbformat": 4,
  "nbformat_minor": 0,
  "metadata": {
    "colab": {
      "name": "3116-용준서(논술형).ipynb",
      "provenance": [],
      "authorship_tag": "ABX9TyPJGFJBBMsEVIOa30stvnq6",
      "include_colab_link": true
    },
    "kernelspec": {
      "name": "python3",
      "display_name": "Python 3"
    },
    "language_info": {
      "name": "python"
    }
  },
  "cells": [
    {
      "cell_type": "markdown",
      "metadata": {
        "id": "view-in-github",
        "colab_type": "text"
      },
      "source": [
        "<a href=\"https://colab.research.google.com/github/yongjunseo8596/colab/blob/main/3116_%EC%9A%A9%EC%A4%80%EC%84%9C(%EB%85%BC%EC%88%A0%ED%98%95).ipynb\" target=\"_parent\"><img src=\"https://colab.research.google.com/assets/colab-badge.svg\" alt=\"Open In Colab\"/></a>"
      ]
    },
    {
      "cell_type": "markdown",
      "source": [
        "2022학년도 응용프로그래밍 개발 - 논술형 \n",
        "컴퓨터과 3학년 1반 16번 용준서"
      ],
      "metadata": {
        "id": "OG03Vfah6oE0"
      }
    },
    {
      "cell_type": "code",
      "execution_count": 7,
      "metadata": {
        "colab": {
          "base_uri": "https://localhost:8080/"
        },
        "id": "VqsWaHsx6ina",
        "outputId": "dbc2156f-0dd5-437d-a2d1-f288251c77b6"
      },
      "outputs": [
        {
          "output_type": "stream",
          "name": "stdout",
          "text": [
            "첫 번째 숫자 입력 : 11.2\n",
            "두 번째 숫자 입력 : 10\n",
            "덧셈 : 21.2\n",
            "뺄셈 : 1.1999999999999993\n",
            "곱셈 : 112.0\n",
            "나눗셈 : 1.1199999999999999\n",
            "몫 : 1.0\n",
            "나머지 : 1.1999999999999993\n",
            "승수 : 31058482083.442074\n"
          ]
        }
      ],
      "source": [
        "num1=float(input(\"첫 번째 숫자 입력 : \"))\n",
        "num2=float(input(\"두 번째 숫자 입력 : \"))\n",
        "result1=num1+num2\n",
        "result2=num1-num2\n",
        "result3=num1*num2\n",
        "result4=num1/num2\n",
        "result5=num1//num2\n",
        "result6=num1%num2\n",
        "result7=num1**num2\n",
        "print(\"덧셈 :\",result1)\n",
        "print(\"뺄셈 :\",result2)\n",
        "print(\"곱셈 :\",result3)\n",
        "print(\"나눗셈 :\",result4)\n",
        "print(\"몫 :\",result5)\n",
        "print(\"나머지 :\",result6)\n",
        "print(\"승수 :\",result7)\n"
      ]
    }
  ]
}