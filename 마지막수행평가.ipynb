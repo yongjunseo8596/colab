{
  "nbformat": 4,
  "nbformat_minor": 0,
  "metadata": {
    "colab": {
      "provenance": [],
      "authorship_tag": "ABX9TyNJMx1JtavsZAILl6r4eoGm",
      "include_colab_link": true
    },
    "kernelspec": {
      "name": "python3",
      "display_name": "Python 3"
    },
    "language_info": {
      "name": "python"
    }
  },
  "cells": [
    {
      "cell_type": "markdown",
      "metadata": {
        "id": "view-in-github",
        "colab_type": "text"
      },
      "source": [
        "<a href=\"https://colab.research.google.com/github/yongjunseo8596/colab/blob/main/%EB%A7%88%EC%A7%80%EB%A7%89%EC%88%98%ED%96%89%ED%8F%89%EA%B0%80.ipynb\" target=\"_parent\"><img src=\"https://colab.research.google.com/assets/colab-badge.svg\" alt=\"Open In Colab\"/></a>"
      ]
    },
    {
      "cell_type": "code",
      "execution_count": 1,
      "metadata": {
        "colab": {
          "base_uri": "https://localhost:8080/"
        },
        "id": "US8t1MoqVp6O",
        "outputId": "30ae8544-69a9-4024-b707-4438950ec832"
      },
      "outputs": [
        {
          "output_type": "stream",
          "name": "stdout",
          "text": [
            "2 X 1 = 2\n",
            "2 X 2 = 4\n",
            "2 X 3 = 6\n",
            "2 X 4 = 8\n",
            "2 X 5 = 10\n",
            "2 X 6 = 12\n",
            "2 X 7 = 14\n",
            "2 X 8 = 16\n",
            "2 X 9 = 18\n",
            "3 X 1 = 3\n",
            "3 X 2 = 6\n",
            "3 X 3 = 9\n",
            "3 X 4 = 12\n",
            "3 X 5 = 15\n",
            "3 X 6 = 18\n",
            "3 X 7 = 21\n",
            "3 X 8 = 24\n",
            "3 X 9 = 27\n",
            "4 X 1 = 4\n",
            "4 X 2 = 8\n",
            "4 X 3 = 12\n",
            "4 X 4 = 16\n",
            "4 X 5 = 20\n",
            "4 X 6 = 24\n",
            "4 X 7 = 28\n",
            "4 X 8 = 32\n",
            "4 X 9 = 36\n",
            "5 X 1 = 5\n",
            "5 X 2 = 10\n",
            "5 X 3 = 15\n",
            "5 X 4 = 20\n",
            "5 X 5 = 25\n",
            "5 X 6 = 30\n",
            "5 X 7 = 35\n",
            "5 X 8 = 40\n",
            "5 X 9 = 45\n",
            "6 X 1 = 6\n",
            "6 X 2 = 12\n",
            "6 X 3 = 18\n",
            "6 X 4 = 24\n",
            "6 X 5 = 30\n",
            "6 X 6 = 36\n",
            "6 X 7 = 42\n",
            "6 X 8 = 48\n",
            "6 X 9 = 54\n",
            "7 X 1 = 7\n",
            "7 X 2 = 14\n",
            "7 X 3 = 21\n",
            "7 X 4 = 28\n",
            "7 X 5 = 35\n",
            "7 X 6 = 42\n",
            "7 X 7 = 49\n",
            "7 X 8 = 56\n",
            "7 X 9 = 63\n",
            "8 X 1 = 8\n",
            "8 X 2 = 16\n",
            "8 X 3 = 24\n",
            "8 X 4 = 32\n",
            "8 X 5 = 40\n",
            "8 X 6 = 48\n",
            "8 X 7 = 56\n",
            "8 X 8 = 64\n",
            "8 X 9 = 72\n",
            "9 X 1 = 9\n",
            "9 X 2 = 18\n",
            "9 X 3 = 27\n",
            "9 X 4 = 36\n",
            "9 X 5 = 45\n",
            "9 X 6 = 54\n",
            "9 X 7 = 63\n",
            "9 X 8 = 72\n",
            "9 X 9 = 81\n"
          ]
        }
      ],
      "source": [
        "a=0\n",
        "b=0\n",
        "for a in range(2,10) :\n",
        "  for b in range(1,10) :\n",
        "    print(a,\"X\",b,\"=\",a*b)\n",
        "  print(\"\")"
      ]
    },
    {
      "cell_type": "code",
      "source": [
        "a=0\n",
        "i=0\n",
        "for i in range(1,101,1):\n",
        "  if i%4==0:\n",
        "    continue\n",
        "  a+=i\n",
        "print(a)"
      ],
      "metadata": {
        "colab": {
          "base_uri": "https://localhost:8080/"
        },
        "id": "RUkSZEyjWNoI",
        "outputId": "b205a9c1-75cf-4221-8024-89a85acf803c"
      },
      "execution_count": 5,
      "outputs": [
        {
          "output_type": "stream",
          "name": "stdout",
          "text": [
            "3750\n"
          ]
        }
      ]
    },
    {
      "cell_type": "code",
      "source": [
        "import random\n",
        "c=0\n",
        "d1,d2,d3 = 0,0,0\n",
        "while True :\n",
        "  c+=1\n",
        "  d1=random.randint(1,10)\n",
        "  d2=random.randint(1,10)\n",
        "  d3=random.randint(1,10)\n",
        "  if (d1==d2==d3):\n",
        "    break\n",
        "print(c,\"번 던짐\")"
      ],
      "metadata": {
        "colab": {
          "base_uri": "https://localhost:8080/"
        },
        "id": "cBSvSwqqYeti",
        "outputId": "fa36cfb4-5865-4a3c-e5f3-6a3f391d51d7"
      },
      "execution_count": 9,
      "outputs": [
        {
          "output_type": "stream",
          "name": "stdout",
          "text": [
            "173 번 던짐\n"
          ]
        }
      ]
    },
    {
      "cell_type": "code",
      "source": [
        "import random \n",
        "c,u=0,0\n",
        "for i in range(1,11):\n",
        "  c=random.randint(1,5)\n",
        "  print(i,\"회:\",end='')\n",
        "  user=int(input(\"컴퓨터가 생각한 숫자는?\"))\n",
        "  if c==u:\n",
        "    print(\"정답\")\n",
        "    break\n",
        "  else :\n",
        "    print(\"오답 다시해라\")\n",
        "    continue\n",
        "print(\"게임을마침\")"
      ],
      "metadata": {
        "colab": {
          "base_uri": "https://localhost:8080/"
        },
        "id": "dcWP4-RTYe4Z",
        "outputId": "28c28552-a311-4941-c0fb-22da8c302d4e"
      },
      "execution_count": 11,
      "outputs": [
        {
          "output_type": "stream",
          "name": "stdout",
          "text": [
            "1 회:컴퓨터가 생각한 숫자는?1\n",
            "오답 다시해라\n",
            "2 회:컴퓨터가 생각한 숫자는?2\n",
            "오답 다시해라\n",
            "3 회:컴퓨터가 생각한 숫자는?3\n",
            "오답 다시해라\n",
            "4 회:컴퓨터가 생각한 숫자는?1\n",
            "오답 다시해라\n",
            "5 회:컴퓨터가 생각한 숫자는?2\n",
            "오답 다시해라\n",
            "6 회:컴퓨터가 생각한 숫자는?2\n",
            "오답 다시해라\n",
            "7 회:컴퓨터가 생각한 숫자는?3\n",
            "오답 다시해라\n",
            "8 회:컴퓨터가 생각한 숫자는?4\n",
            "오답 다시해라\n",
            "9 회:컴퓨터가 생각한 숫자는?5\n",
            "오답 다시해라\n",
            "10 회:컴퓨터가 생각한 숫자는?6\n",
            "오답 다시해라\n",
            "게임을마침\n"
          ]
        }
      ]
    }
  ]
}