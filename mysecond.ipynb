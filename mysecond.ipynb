{
  "nbformat": 4,
  "nbformat_minor": 0,
  "metadata": {
    "colab": {
      "name": "mysecond.ipynb",
      "provenance": [],
      "authorship_tag": "ABX9TyN76jccUznEaImHU7vvZQu7",
      "include_colab_link": true
    },
    "kernelspec": {
      "name": "python3",
      "display_name": "Python 3"
    },
    "language_info": {
      "name": "python"
    }
  },
  "cells": [
    {
      "cell_type": "markdown",
      "metadata": {
        "id": "view-in-github",
        "colab_type": "text"
      },
      "source": [
        "<a href=\"https://colab.research.google.com/github/yongjunseo8596/colab/blob/main/mysecond.ipynb\" target=\"_parent\"><img src=\"https://colab.research.google.com/assets/colab-badge.svg\" alt=\"Open In Colab\"/></a>"
      ]
    },
    {
      "cell_type": "code",
      "execution_count": 1,
      "metadata": {
        "id": "acxCVQstQiab",
        "colab": {
          "base_uri": "https://localhost:8080/"
        },
        "outputId": "7ddfb6da-9556-4c03-ab26-01346bcb8395"
      },
      "outputs": [
        {
          "output_type": "stream",
          "name": "stdout",
          "text": [
            "두 번째 실행입니다.\n",
            "난생처음 파이썬을 공부하지만, 점점 익숙해지는 것 같아요 :)\n"
          ]
        }
      ],
      "source": [
        "print(\"두 번째 실행입니다.\")\n",
        "print(\"난생처음 파이썬을 공부하지만, 점점 익숙해지는 것 같아요 :)\")"
      ]
    }
  ]
}