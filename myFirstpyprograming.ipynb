{
  "nbformat": 4,
  "nbformat_minor": 0,
  "metadata": {
    "colab": {
      "name": "myFirstpyprograming.ipynb",
      "provenance": [],
      "authorship_tag": "ABX9TyO7CCgMFFC2FxXpU01CJ00I",
      "include_colab_link": true
    },
    "kernelspec": {
      "name": "python3",
      "display_name": "Python 3"
    },
    "language_info": {
      "name": "python"
    }
  },
  "cells": [
    {
      "cell_type": "markdown",
      "metadata": {
        "id": "view-in-github",
        "colab_type": "text"
      },
      "source": [
        "<a href=\"https://colab.research.google.com/github/yongjunseo8596/colab/blob/main/myFirstpyprograming.ipynb\" target=\"_parent\"><img src=\"https://colab.research.google.com/assets/colab-badge.svg\" alt=\"Open In Colab\"/></a>"
      ]
    },
    {
      "cell_type": "markdown",
      "source": [
        "나의 첫 파이썬 프로그래밍"
      ],
      "metadata": {
        "id": "nICyiILBDe85"
      }
    },
    {
      "cell_type": "code",
      "execution_count": 1,
      "metadata": {
        "colab": {
          "base_uri": "https://localhost:8080/"
        },
        "id": "hRJ2_FJoDG3U",
        "outputId": "7488108a-2a14-4df7-cd36-0ac2661a7f98"
      },
      "outputs": [
        {
          "output_type": "stream",
          "name": "stdout",
          "text": [
            "컴퓨터과 3학년 1반 16번 용준서\n"
          ]
        }
      ],
      "source": [
        "print(\"컴퓨터과 3학년 1반 16번 용준서\")"
      ]
    }
  ]
}