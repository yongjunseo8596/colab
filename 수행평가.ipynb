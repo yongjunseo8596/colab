{
  "nbformat": 4,
  "nbformat_minor": 0,
  "metadata": {
    "colab": {
      "provenance": [],
      "authorship_tag": "ABX9TyPI0Us0ivOXPT/e+w/FF+HI",
      "include_colab_link": true
    },
    "kernelspec": {
      "name": "python3",
      "display_name": "Python 3"
    },
    "language_info": {
      "name": "python"
    }
  },
  "cells": [
    {
      "cell_type": "markdown",
      "metadata": {
        "id": "view-in-github",
        "colab_type": "text"
      },
      "source": [
        "<a href=\"https://colab.research.google.com/github/yongjunseo8596/colab/blob/main/%EC%88%98%ED%96%89%ED%8F%89%EA%B0%80.ipynb\" target=\"_parent\"><img src=\"https://colab.research.google.com/assets/colab-badge.svg\" alt=\"Open In Colab\"/></a>"
      ]
    },
    {
      "cell_type": "code",
      "execution_count": 11,
      "metadata": {
        "colab": {
          "base_uri": "https://localhost:8080/"
        },
        "id": "CX1eMJtiuP6y",
        "outputId": "8fbefd88-d0f7-49c4-a7ef-31aec7e27b59"
      },
      "outputs": [
        {
          "output_type": "stream",
          "name": "stdout",
          "text": [
            "원본문자열 ==> Python\n",
            "변환문자열 ==> pYTHON\n"
          ]
        }
      ],
      "source": [
        "text = \"Python\"\n",
        "a=\"\"\n",
        "\n",
        "a+=text[0].lower()\n",
        "a+=text[1].upper()\n",
        "a+=text[2].upper()\n",
        "a+=text[3].upper()\n",
        "a+=text[4].upper()\n",
        "a+=text[5].upper()\n",
        "\n",
        "print(\"원본문자열 ==>\" , text)\n",
        "print(\"변환문자열 ==>\", a)"
      ]
    },
    {
      "cell_type": "code",
      "source": [
        "text = \"트와이스\"\n",
        "a=\"\"\n",
        "a+=text[3]\n",
        "a+=text[2]\n",
        "a+=text[1]\n",
        "a+=text[0]\n",
        "print(\"원본문자열 ==>\",text)\n",
        "print(\"변환문자열 ==>\",a)\n"
      ],
      "metadata": {
        "colab": {
          "base_uri": "https://localhost:8080/"
        },
        "id": "03zbdSBmxkBX",
        "outputId": "784aff09-40c0-4c1e-8d3e-7741f1ae81cf"
      },
      "execution_count": 13,
      "outputs": [
        {
          "output_type": "stream",
          "name": "stdout",
          "text": [
            "원본문자열 ==> 트와이스\n",
            "변환문자열 ==> 스이와트\n"
          ]
        }
      ]
    }
  ]
}