{
  "nbformat": 4,
  "nbformat_minor": 0,
  "metadata": {
    "colab": {
      "name": "lesson4(완).ipynb",
      "provenance": [],
      "authorship_tag": "ABX9TyOd8IZ5YqyIvZX5X9TVt+9Q",
      "include_colab_link": true
    },
    "kernelspec": {
      "name": "python3",
      "display_name": "Python 3"
    },
    "language_info": {
      "name": "python"
    }
  },
  "cells": [
    {
      "cell_type": "markdown",
      "metadata": {
        "id": "view-in-github",
        "colab_type": "text"
      },
      "source": [
        "<a href=\"https://colab.research.google.com/github/yongjunseo8596/colab/blob/main/lesson4(%EC%99%84).ipynb\" target=\"_parent\"><img src=\"https://colab.research.google.com/assets/colab-badge.svg\" alt=\"Open In Colab\"/></a>"
      ]
    },
    {
      "cell_type": "markdown",
      "source": [
        "예제1"
      ],
      "metadata": {
        "id": "QKgnihv6y3rm"
      }
    },
    {
      "cell_type": "code",
      "execution_count": null,
      "metadata": {
        "colab": {
          "base_uri": "https://localhost:8080/"
        },
        "id": "4V6slQo3y22a",
        "outputId": "317363bd-3932-4134-e26b-2558f32660a6"
      },
      "outputs": [
        {
          "output_type": "stream",
          "name": "stdout",
          "text": [
            "\n",
            "줄바꿈\n",
            "연습\n",
            "\t탭키\t연습\n",
            "어떤 글자를 \"강조\"하는 효과 1\n",
            "어떤 글자를 '강조'하는 효과 2\n",
            "\\\\ 백슬래시 2개 출력\n"
          ]
        }
      ],
      "source": [
        "print(\"\\n줄바꿈\\n연습\")\n",
        "print(\"\\t탭키\\t연습\")\n",
        "print(\"어떤 글자를 \\\"강조\\\"하는 효과 1\")\n",
        "print(\"어떤 글자를 \\'강조\\'하는 효과 2\")\n",
        "print(\"\\\\\\\\ 백슬래시 2개 출력\")"
      ]
    },
    {
      "cell_type": "markdown",
      "source": [
        "형성평가1"
      ],
      "metadata": {
        "id": "e2ymEH2L3WsY"
      }
    },
    {
      "cell_type": "code",
      "source": [
        "a=\"난생처음 파이썬\"\n",
        "print(\"첫 번째 문자열 ==>\",a)\n",
        "len(a)\n",
        "b=\"First Python\"\n",
        "print(\"두 번째 문자열 ==>\",b)\n",
        "len(b)\n",
        "\n",
        "print(\"두 문자열의 길이 차이는\",len(a)-len(b),\"입니다.\")\n"
      ],
      "metadata": {
        "colab": {
          "base_uri": "https://localhost:8080/"
        },
        "id": "I4HtDQrN3W0V",
        "outputId": "30ccba99-af85-4576-b07d-10760669c0fc"
      },
      "execution_count": null,
      "outputs": [
        {
          "output_type": "stream",
          "name": "stdout",
          "text": [
            "첫 번째 문자열 ==> 난생처음 파이썬\n",
            "두 번째 문자열 ==> First Python\n",
            "두 문자열의 길이 차이는 -4 입니다.\n"
          ]
        }
      ]
    },
    {
      "cell_type": "markdown",
      "source": [
        "예제 문자관련 함수"
      ],
      "metadata": {
        "id": "bwvBKOzOfbIh"
      }
    },
    {
      "cell_type": "code",
      "source": [
        "str1 = input(\"문자열 입력 :\")\n",
        "print(\"입력된 문자열의 길이 :\",len(str1))\n",
        "print(\"입력된 문자열을 대문자로 변환 :\",str1.upper())\n",
        "print(\"입력된 문자열을 소문자로 변환 :\",str1.lower())\n",
        "print(\"입력된 문자열 중 ansan 은 몇번 나오는지 :\",str1.count(\"ansan\"))\n",
        "print(\"입력된 문자열은 대문자인가요?\",str1.isupper())\n",
        "print(\"입력된 문자열은 소문자인가요?\",str1.islower())"
      ],
      "metadata": {
        "colab": {
          "base_uri": "https://localhost:8080/"
        },
        "id": "QIqQSI96fbRh",
        "outputId": "cd8f4519-d9b6-4539-ba93-439bac427b7e"
      },
      "execution_count": null,
      "outputs": [
        {
          "output_type": "stream",
          "name": "stdout",
          "text": [
            "문자열 입력 :오늘은 금요일 개이득! my feels real good!\n",
            "입력된 문자열의 길이 : 32\n",
            "입력된 문자열을 대문자로 변환 : 오늘은 금요일 개이득! MY FEELS REAL GOOD!\n",
            "입력된 문자열을 소문자로 변환 : 오늘은 금요일 개이득! my feels real good!\n",
            "입력된 문자열 중 ansan 은 몇번 나오는지 : 0\n",
            "입력된 문자열은 대문자인가요? False\n",
            "입력된 문자열은 소문자인가요? True\n"
          ]
        }
      ]
    },
    {
      "cell_type": "markdown",
      "source": [
        "렛잇비 "
      ],
      "metadata": {
        "id": "WqeIrWqQeMCR"
      }
    },
    {
      "cell_type": "code",
      "source": [
        "ly=\"\"\"When I find myself in times of trouble\n",
        "Mother Mary comes to me\n",
        "Speaking words of wisdom\n",
        "Let it be\n",
        "And in my hour of darkness\n",
        "She is standing right in front of me\n",
        "Speaking words of wisdom\n",
        "Let it be\n",
        "Let is be, let it be\n",
        "Let it be, let it be\n",
        "Whisper words of wisdom\n",
        "Let it be\n",
        "And when the brokenhearted people\n",
        "Living in the world agree\n",
        "There will be an answer\n",
        "Let it be\n",
        "For though they may be parted\n",
        "There is still a chance that they will see\n",
        "There will be an answer\n",
        "Let it be\n",
        "Let is be, let it be\n",
        "Let it be, let it be\n",
        "Yeah, there will be an answer\n",
        "Let it be\n",
        "Let is be, let it be\n",
        "Let it be, let it be\n",
        "Whisper words of wisdom\n",
        "Let it be\n",
        "Let is be, let it be\n",
        "Let it be, yeah, let it be\n",
        "Whisper words of wisdom\n",
        "Let it be\n",
        "And when the night is cloudy\n",
        "There is still a light that shines on me\n",
        "Shine on 'til tomorrow\n",
        "Let it be\n",
        "I wake up to the sound of music\n",
        "Mother Mary comes to me\n",
        "Speaking words of wisdom\n",
        "Let it be, yeah\n",
        "Let it be, let it be\n",
        "Let it be, yeah, let it be\n",
        "Oh, there will be an answer\n",
        "Let it be\n",
        "Let it be, let it be\n",
        "Let it be, yeah, let it be\n",
        "Whisper words of wisdom\n",
        "Let it be\"\"\"\n",
        "\n",
        "a=ly.count(\"Let it be\")\n",
        "b=ly.count(\"let it be\")\n",
        "print(\"이 노래에선 'Let it be'가사가 총\" ,a+b ,\"번 나옵니다.\")\n",
        "\n",
        "\n"
      ],
      "metadata": {
        "colab": {
          "base_uri": "https://localhost:8080/"
        },
        "id": "vTZ58SE-eMLR",
        "outputId": "f6dd110a-85b6-4690-e912-1bedbc59cd46"
      },
      "execution_count": null,
      "outputs": [
        {
          "output_type": "stream",
          "name": "stdout",
          "text": [
            "이 노래에선 'Let it be'가사가 총 32 번 나옵니다.\n"
          ]
        }
      ]
    },
    {
      "cell_type": "markdown",
      "source": [
        "예스터 데이"
      ],
      "metadata": {
        "id": "HFSq0BT0jrLh"
      }
    },
    {
      "cell_type": "code",
      "source": [
        "a=\"\"\"Yesterday\n",
        "All my trouble seemed so far away\n",
        "Now it looks as though they're here to stay\n",
        "Oh, I believe in yesterday\n",
        "Suddenly\n",
        "I'm not half the man I used to be\n",
        "There's a shadow hanging over me\n",
        "Oh, yesterday came suddenly\n",
        "Why she had to go, I don't know\n",
        "She wouldn't say\n",
        "I said something wrong\n",
        "Now I long for yesterday\n",
        "Yesterday\n",
        "Love was such an easy game to play\n",
        "Now I need a place to hide away\n",
        "Oh, I believe in yesterday\n",
        "Why she had to go, I don't know\n",
        "She wouldn't say\n",
        "I said something wrong\n",
        "Now I long for yesterday\n",
        "Yesterday\n",
        "Love was such an easy game to play\n",
        "Now I need a place to hide away\n",
        "Oh, I believe in yesterday\"\"\"\n",
        "b=a.count(\"Yesterday\")\n",
        "c=a.count(\"yesterday\")\n",
        "print(\"이노래에서 'yesterday'는 총\",b+c,\"번 나옵니다\")"
      ],
      "metadata": {
        "colab": {
          "base_uri": "https://localhost:8080/"
        },
        "id": "6myWYXVzjrTK",
        "outputId": "fb483ad0-5cb1-4723-8978-fbdf0a738e96"
      },
      "execution_count": null,
      "outputs": [
        {
          "output_type": "stream",
          "name": "stdout",
          "text": [
            "이노래에서 'yesterday'는 총 9 번 나옵니다\n"
          ]
        }
      ]
    },
    {
      "cell_type": "markdown",
      "source": [
        "예제 문자열위치접근"
      ],
      "metadata": {
        "id": "ZQk11lYmkD8Z"
      }
    },
    {
      "cell_type": "code",
      "source": [
        "ml=[\"안산공고\",\"컴퓨터\",3,1,2022]\n",
        "print(ml)\n",
        "print(ml[0])\n",
        "print(ml[4],ml[3])"
      ],
      "metadata": {
        "colab": {
          "base_uri": "https://localhost:8080/"
        },
        "id": "GrZJyPy1kEEo",
        "outputId": "6261d87c-ebf6-4caa-c397-64b9ccf0a7f2"
      },
      "execution_count": null,
      "outputs": [
        {
          "output_type": "stream",
          "name": "stdout",
          "text": [
            "['안산공고', '컴퓨터', 3, 1, 2022]\n",
            "안산공고\n",
            "2022 1\n"
          ]
        }
      ]
    },
    {
      "cell_type": "markdown",
      "source": [
        "예제 문자열"
      ],
      "metadata": {
        "id": "sXgZ2yV2moXQ"
      }
    },
    {
      "cell_type": "code",
      "source": [
        "a=\"Ansan Technical High School\"\n",
        "print(a)\n",
        "print(a[0])\n",
        "print(a[0:5])\n",
        "print(a[16:20])"
      ],
      "metadata": {
        "colab": {
          "base_uri": "https://localhost:8080/"
        },
        "id": "6IPsw4CPmogI",
        "outputId": "90ba015b-161a-405f-851a-48debadde2cd"
      },
      "execution_count": null,
      "outputs": [
        {
          "output_type": "stream",
          "name": "stdout",
          "text": [
            "Ansan Technical High School\n",
            "A\n",
            "Ansan\n",
            "High\n"
          ]
        }
      ]
    },
    {
      "cell_type": "markdown",
      "source": [
        "예제 반복문"
      ],
      "metadata": {
        "id": "AC-A0eayntFJ"
      }
    },
    {
      "cell_type": "code",
      "source": [
        "while True :\n",
        "  a=input(\"문자열 입력 : \")\n",
        "  if a==\"q\" :\n",
        "    break\n",
        "  print(a)"
      ],
      "metadata": {
        "colab": {
          "base_uri": "https://localhost:8080/"
        },
        "id": "8cmt1GtLntNZ",
        "outputId": "844fe859-2f4f-4c57-f00c-af65392f4f69"
      },
      "execution_count": null,
      "outputs": [
        {
          "name": "stdout",
          "output_type": "stream",
          "text": [
            "문자열 입력 : a\n",
            "a\n",
            "문자열 입력 : a\n",
            "a\n",
            "문자열 입력 : a\n",
            "a\n",
            "문자열 입력 : a\n",
            "a\n",
            "문자열 입력 : q\n"
          ]
        }
      ]
    },
    {
      "cell_type": "markdown",
      "source": [
        "형성평가 문자열뒤집기"
      ],
      "metadata": {
        "id": "-J5h-c3zrGy5"
      }
    },
    {
      "cell_type": "code",
      "source": [
        "a1=input(\"문자열을 입력해주세요 : \")\n",
        "\n",
        "print(\"원본 문자열 ==>\",a1)\n",
        "b=len(a1)\n",
        "c=\"\"\n",
        "while b>0 :\n",
        "  c=c+a1[b-1]\n",
        "  b-=1\n",
        "print(\"뒤집힌 문자열 ==>\", c)\n",
        "\n",
        "\n"
      ],
      "metadata": {
        "colab": {
          "base_uri": "https://localhost:8080/"
        },
        "id": "ke_9BuevrG5u",
        "outputId": "d700c919-e2af-4df9-e00c-4b1ae9490f15"
      },
      "execution_count": null,
      "outputs": [
        {
          "output_type": "stream",
          "name": "stdout",
          "text": [
            "문자열을 입력해주세요 : 김동빈은베트남에서온불법체류자야생에서생고기를먹는남자베어그릴스도울고갈레알미친똥통\n",
            "원본 문자열 ==> 김동빈은베트남에서온불법체류자야생에서생고기를먹는남자베어그릴스도울고갈레알미친똥통\n",
            "뒤집힌 문자열 ==> 통똥친미알레갈고울도스릴그어베자남는먹를기고생서에생야자류체법불온서에남트베은빈동김\n"
          ]
        }
      ]
    },
    {
      "cell_type": "markdown",
      "source": [
        "형성평가 대문자소문자"
      ],
      "metadata": {
        "id": "dBBbY85JuK0Q"
      }
    },
    {
      "cell_type": "code",
      "source": [
        "a=input(\"영어를 입력해주세요 :\")\n",
        "b=\"\"\n",
        "\n",
        "\n",
        "  "
      ],
      "metadata": {
        "colab": {
          "base_uri": "https://localhost:8080/",
          "height": 266
        },
        "id": "h2EK-y3FuK_v",
        "outputId": "c72c371b-a3aa-4bcf-b61e-2ab52f78ebaf"
      },
      "execution_count": null,
      "outputs": [
        {
          "name": "stdout",
          "output_type": "stream",
          "text": [
            "영어를 입력해주세요 :ab\n"
          ]
        },
        {
          "output_type": "error",
          "ename": "TypeError",
          "evalue": "ignored",
          "traceback": [
            "\u001b[0;31m---------------------------------------------------------------------------\u001b[0m",
            "\u001b[0;31mTypeError\u001b[0m                                 Traceback (most recent call last)",
            "\u001b[0;32m<ipython-input-39-22a3be34eef4>\u001b[0m in \u001b[0;36m<module>\u001b[0;34m\u001b[0m\n\u001b[1;32m      5\u001b[0m     \u001b[0ma\u001b[0m\u001b[0;34m[\u001b[0m\u001b[0mb\u001b[0m\u001b[0;34m]\u001b[0m\u001b[0;34m=\u001b[0m\u001b[0ma\u001b[0m\u001b[0;34m[\u001b[0m\u001b[0mb\u001b[0m\u001b[0;34m]\u001b[0m\u001b[0;34m.\u001b[0m\u001b[0mlower\u001b[0m\u001b[0;34m(\u001b[0m\u001b[0;34m)\u001b[0m\u001b[0;34m\u001b[0m\u001b[0;34m\u001b[0m\u001b[0m\n\u001b[1;32m      6\u001b[0m   \u001b[0;32melse\u001b[0m \u001b[0;34m:\u001b[0m\u001b[0;34m\u001b[0m\u001b[0;34m\u001b[0m\u001b[0m\n\u001b[0;32m----> 7\u001b[0;31m     \u001b[0ma\u001b[0m\u001b[0;34m[\u001b[0m\u001b[0mb\u001b[0m\u001b[0;34m]\u001b[0m\u001b[0;34m=\u001b[0m\u001b[0ma\u001b[0m\u001b[0;34m[\u001b[0m\u001b[0mb\u001b[0m\u001b[0;34m]\u001b[0m\u001b[0;34m.\u001b[0m\u001b[0mupper\u001b[0m\u001b[0;34m(\u001b[0m\u001b[0;34m)\u001b[0m\u001b[0;34m\u001b[0m\u001b[0;34m\u001b[0m\u001b[0m\n\u001b[0m\u001b[1;32m      8\u001b[0m     \u001b[0mb\u001b[0m\u001b[0;34m+=\u001b[0m\u001b[0;36m1\u001b[0m\u001b[0;34m\u001b[0m\u001b[0;34m\u001b[0m\u001b[0m\n\u001b[1;32m      9\u001b[0m \u001b[0mprint\u001b[0m\u001b[0;34m(\u001b[0m\u001b[0;34m\"반대문자열 :\"\u001b[0m\u001b[0;34m,\u001b[0m \u001b[0ma\u001b[0m\u001b[0;34m)\u001b[0m\u001b[0;34m\u001b[0m\u001b[0;34m\u001b[0m\u001b[0m\n",
            "\u001b[0;31mTypeError\u001b[0m: 'str' object does not support item assignment"
          ]
        }
      ]
    },
    {
      "cell_type": "markdown",
      "source": [
        "모험을 떠나는 꼬북이 예제"
      ],
      "metadata": {
        "id": "vA0JZleXHmpa"
      }
    },
    {
      "cell_type": "code",
      "source": [
        "!pip3 install ColabTurtle\n",
        "import ColabTurtle.Turtle as turtle\n",
        "turtle.initializeTurtle()\n",
        "\n",
        "x = int(input(\"이동할 X좌표 위치 : \"))\n",
        "y = int(input(\"이동할 Y좌표 위치 : \"))\n",
        "text=input(\"쓰고 싶은글자 : \")\n",
        "turtle.penup()\n",
        "turtle.goto(x,y)\n",
        "turtle.write(text)\n",
        "\n"
      ],
      "metadata": {
        "colab": {
          "base_uri": "https://localhost:8080/",
          "height": 612
        },
        "id": "LtUPo7AEHs0S",
        "outputId": "179d3782-ca06-4997-9663-a111771849b3"
      },
      "execution_count": 11,
      "outputs": [
        {
          "output_type": "stream",
          "name": "stdout",
          "text": [
            "Looking in indexes: https://pypi.org/simple, https://us-python.pkg.dev/colab-wheels/public/simple/\n",
            "Requirement already satisfied: ColabTurtle in /usr/local/lib/python3.7/dist-packages (2.1.0)\n"
          ]
        },
        {
          "output_type": "display_data",
          "data": {
            "text/plain": [
              "<IPython.core.display.HTML object>"
            ],
            "text/html": [
              "\n",
              "      <svg width=\"800\" height=\"500\">\n",
              "        <rect width=\"100%\" height=\"100%\" fill=\"black\"/>\n",
              "        <text x=\"123\" y=\"321\" fill=\"white\" text-anchor=\"start\" style=\"font-size:12px;font-family:'Arial';\">글자</text>\n",
              "        <g visibility=visible transform=\"rotate(360,123,321) translate(105, 303)\">\n",
              "<path style=\" stroke:none;fill-rule:evenodd;fill:white;fill-opacity:1;\" d=\"M 18.214844 0.632812 C 16.109375 1.800781 15.011719 4.074219 15.074219 7.132812 L 15.085938 7.652344 L 14.785156 7.496094 C 13.476562 6.824219 11.957031 6.671875 10.40625 7.066406 C 8.46875 7.550781 6.515625 9.15625 4.394531 11.992188 C 3.0625 13.777344 2.679688 14.636719 3.042969 15.027344 L 3.15625 15.152344 L 3.519531 15.152344 C 4.238281 15.152344 4.828125 14.886719 8.1875 13.039062 C 9.386719 12.378906 10.371094 11.839844 10.378906 11.839844 C 10.386719 11.839844 10.355469 11.929688 10.304688 12.035156 C 9.832031 13.09375 9.257812 14.820312 8.96875 16.078125 C 7.914062 20.652344 8.617188 24.53125 11.070312 27.660156 C 11.351562 28.015625 11.363281 27.914062 10.972656 28.382812 C 8.925781 30.84375 7.945312 33.28125 8.238281 35.1875 C 8.289062 35.527344 8.28125 35.523438 8.917969 35.523438 C 10.941406 35.523438 13.074219 34.207031 15.136719 31.6875 C 15.359375 31.417969 15.328125 31.425781 15.5625 31.574219 C 16.292969 32.042969 18.023438 32.964844 18.175781 32.964844 C 18.335938 32.964844 19.941406 32.210938 20.828125 31.71875 C 20.996094 31.625 21.136719 31.554688 21.136719 31.558594 C 21.203125 31.664062 21.898438 32.414062 22.222656 32.730469 C 23.835938 34.300781 25.5625 35.132812 27.582031 35.300781 C 27.90625 35.328125 27.9375 35.308594 28.007812 34.984375 C 28.382812 33.242188 27.625 30.925781 25.863281 28.425781 L 25.542969 27.96875 L 25.699219 27.785156 C 28.945312 23.960938 29.132812 18.699219 26.257812 11.96875 L 26.207031 11.84375 L 27.945312 12.703125 C 31.53125 14.476562 32.316406 14.800781 33.03125 14.800781 C 33.976562 14.800781 33.78125 13.9375 32.472656 12.292969 C 28.519531 7.355469 25.394531 5.925781 21.921875 7.472656 L 21.558594 7.636719 L 21.578125 7.542969 C 21.699219 6.992188 21.761719 5.742188 21.699219 5.164062 C 21.496094 3.296875 20.664062 1.964844 19.003906 0.855469 C 18.480469 0.503906 18.457031 0.5 18.214844 0.632812\"/>\n",
              "</g>\n",
              "      </svg>\n",
              "    "
            ]
          },
          "metadata": {}
        },
        {
          "name": "stdout",
          "output_type": "stream",
          "text": [
            "이동할 X좌표 위치 : 123\n",
            "이동할 Y좌표 위치 : 321\n",
            "쓰고 싶은글자 : 글자\n"
          ]
        }
      ]
    }
  ]
}