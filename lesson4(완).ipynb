{
  "nbformat": 4,
  "nbformat_minor": 0,
  "metadata": {
    "colab": {
      "name": "lesson4(완).ipynb",
      "provenance": [],
      "authorship_tag": "ABX9TyMrr6XXetNJWhDPREZ/tO4w",
      "include_colab_link": true
    },
    "kernelspec": {
      "name": "python3",
      "display_name": "Python 3"
    },
    "language_info": {
      "name": "python"
    }
  },
  "cells": [
    {
      "cell_type": "markdown",
      "metadata": {
        "id": "view-in-github",
        "colab_type": "text"
      },
      "source": [
        "<a href=\"https://colab.research.google.com/github/yongjunseo8596/colab/blob/main/lesson4(%EC%99%84).ipynb\" target=\"_parent\"><img src=\"https://colab.research.google.com/assets/colab-badge.svg\" alt=\"Open In Colab\"/></a>"
      ]
    },
    {
      "cell_type": "markdown",
      "source": [
        "예제1"
      ],
      "metadata": {
        "id": "QKgnihv6y3rm"
      }
    },
    {
      "cell_type": "code",
      "execution_count": null,
      "metadata": {
        "colab": {
          "base_uri": "https://localhost:8080/"
        },
        "id": "4V6slQo3y22a",
        "outputId": "317363bd-3932-4134-e26b-2558f32660a6"
      },
      "outputs": [
        {
          "output_type": "stream",
          "name": "stdout",
          "text": [
            "\n",
            "줄바꿈\n",
            "연습\n",
            "\t탭키\t연습\n",
            "어떤 글자를 \"강조\"하는 효과 1\n",
            "어떤 글자를 '강조'하는 효과 2\n",
            "\\\\ 백슬래시 2개 출력\n"
          ]
        }
      ],
      "source": [
        "print(\"\\n줄바꿈\\n연습\")\n",
        "print(\"\\t탭키\\t연습\")\n",
        "print(\"어떤 글자를 \\\"강조\\\"하는 효과 1\")\n",
        "print(\"어떤 글자를 \\'강조\\'하는 효과 2\")\n",
        "print(\"\\\\\\\\ 백슬래시 2개 출력\")"
      ]
    },
    {
      "cell_type": "markdown",
      "source": [
        "형성평가1"
      ],
      "metadata": {
        "id": "e2ymEH2L3WsY"
      }
    },
    {
      "cell_type": "code",
      "source": [
        "a=\"난생처음 파이썬\"\n",
        "print(\"첫 번째 문자열 ==>\",a)\n",
        "len(a)\n",
        "b=\"First Python\"\n",
        "print(\"두 번째 문자열 ==>\",b)\n",
        "len(b)\n",
        "\n",
        "print(\"두 문자열의 길이 차이는\",len(a)-len(b),\"입니다.\")\n"
      ],
      "metadata": {
        "colab": {
          "base_uri": "https://localhost:8080/"
        },
        "id": "I4HtDQrN3W0V",
        "outputId": "30ccba99-af85-4576-b07d-10760669c0fc"
      },
      "execution_count": null,
      "outputs": [
        {
          "output_type": "stream",
          "name": "stdout",
          "text": [
            "첫 번째 문자열 ==> 난생처음 파이썬\n",
            "두 번째 문자열 ==> First Python\n",
            "두 문자열의 길이 차이는 -4 입니다.\n"
          ]
        }
      ]
    },
    {
      "cell_type": "markdown",
      "source": [
        "예제 문자관련 함수"
      ],
      "metadata": {
        "id": "bwvBKOzOfbIh"
      }
    },
    {
      "cell_type": "code",
      "source": [
        "str1 = input(\"문자열 입력 :\")\n",
        "print(\"입력된 문자열의 길이 :\",len(str1))\n",
        "print(\"입력된 문자열을 대문자로 변환 :\",str1.upper())\n",
        "print(\"입력된 문자열을 소문자로 변환 :\",str1.lower())\n",
        "print(\"입력된 문자열 중 ansan 은 몇번 나오는지 :\",str1.count(\"ansan\"))\n",
        "print(\"입력된 문자열은 대문자인가요?\",str1.isupper())\n",
        "print(\"입력된 문자열은 소문자인가요?\",str1.islower())"
      ],
      "metadata": {
        "colab": {
          "base_uri": "https://localhost:8080/"
        },
        "id": "QIqQSI96fbRh",
        "outputId": "cd8f4519-d9b6-4539-ba93-439bac427b7e"
      },
      "execution_count": 8,
      "outputs": [
        {
          "output_type": "stream",
          "name": "stdout",
          "text": [
            "문자열 입력 :오늘은 금요일 개이득! my feels real good!\n",
            "입력된 문자열의 길이 : 32\n",
            "입력된 문자열을 대문자로 변환 : 오늘은 금요일 개이득! MY FEELS REAL GOOD!\n",
            "입력된 문자열을 소문자로 변환 : 오늘은 금요일 개이득! my feels real good!\n",
            "입력된 문자열 중 ansan 은 몇번 나오는지 : 0\n",
            "입력된 문자열은 대문자인가요? False\n",
            "입력된 문자열은 소문자인가요? True\n"
          ]
        }
      ]
    },
    {
      "cell_type": "markdown",
      "source": [
        "렛잇비 "
      ],
      "metadata": {
        "id": "WqeIrWqQeMCR"
      }
    },
    {
      "cell_type": "code",
      "source": [
        "ly=\"\"\"When I find myself in times of trouble\n",
        "Mother Mary comes to me\n",
        "Speaking words of wisdom\n",
        "Let it be\n",
        "And in my hour of darkness\n",
        "She is standing right in front of me\n",
        "Speaking words of wisdom\n",
        "Let it be\n",
        "Let is be, let it be\n",
        "Let it be, let it be\n",
        "Whisper words of wisdom\n",
        "Let it be\n",
        "And when the brokenhearted people\n",
        "Living in the world agree\n",
        "There will be an answer\n",
        "Let it be\n",
        "For though they may be parted\n",
        "There is still a chance that they will see\n",
        "There will be an answer\n",
        "Let it be\n",
        "Let is be, let it be\n",
        "Let it be, let it be\n",
        "Yeah, there will be an answer\n",
        "Let it be\n",
        "Let is be, let it be\n",
        "Let it be, let it be\n",
        "Whisper words of wisdom\n",
        "Let it be\n",
        "Let is be, let it be\n",
        "Let it be, yeah, let it be\n",
        "Whisper words of wisdom\n",
        "Let it be\n",
        "And when the night is cloudy\n",
        "There is still a light that shines on me\n",
        "Shine on 'til tomorrow\n",
        "Let it be\n",
        "I wake up to the sound of music\n",
        "Mother Mary comes to me\n",
        "Speaking words of wisdom\n",
        "Let it be, yeah\n",
        "Let it be, let it be\n",
        "Let it be, yeah, let it be\n",
        "Oh, there will be an answer\n",
        "Let it be\n",
        "Let it be, let it be\n",
        "Let it be, yeah, let it be\n",
        "Whisper words of wisdom\n",
        "Let it be\"\"\"\n",
        "\n",
        "a=ly.count(\"Let it be\")\n",
        "b=ly.count(\"let it be\")\n",
        "print(\"이 노래에선 'Let it be'가사가 총\" ,a+b ,\"번 나옵니다.\")\n",
        "\n",
        "\n"
      ],
      "metadata": {
        "colab": {
          "base_uri": "https://localhost:8080/"
        },
        "id": "vTZ58SE-eMLR",
        "outputId": "f6dd110a-85b6-4690-e912-1bedbc59cd46"
      },
      "execution_count": 17,
      "outputs": [
        {
          "output_type": "stream",
          "name": "stdout",
          "text": [
            "이 노래에선 'Let it be'가사가 총 32 번 나옵니다.\n"
          ]
        }
      ]
    },
    {
      "cell_type": "markdown",
      "source": [
        "예스터 데이"
      ],
      "metadata": {
        "id": "HFSq0BT0jrLh"
      }
    },
    {
      "cell_type": "code",
      "source": [
        "a=\"\"\"Yesterday\n",
        "All my trouble seemed so far away\n",
        "Now it looks as though they're here to stay\n",
        "Oh, I believe in yesterday\n",
        "Suddenly\n",
        "I'm not half the man I used to be\n",
        "There's a shadow hanging over me\n",
        "Oh, yesterday came suddenly\n",
        "Why she had to go, I don't know\n",
        "She wouldn't say\n",
        "I said something wrong\n",
        "Now I long for yesterday\n",
        "Yesterday\n",
        "Love was such an easy game to play\n",
        "Now I need a place to hide away\n",
        "Oh, I believe in yesterday\n",
        "Why she had to go, I don't know\n",
        "She wouldn't say\n",
        "I said something wrong\n",
        "Now I long for yesterday\n",
        "Yesterday\n",
        "Love was such an easy game to play\n",
        "Now I need a place to hide away\n",
        "Oh, I believe in yesterday\"\"\"\n",
        "b=a.count(\"Yesterday\")\n",
        "c=a.count(\"yesterday\")\n",
        "print(\"이노래에서 'yesterday'는 총\",b+c,\"번 나옵니다\")"
      ],
      "metadata": {
        "colab": {
          "base_uri": "https://localhost:8080/"
        },
        "id": "6myWYXVzjrTK",
        "outputId": "fb483ad0-5cb1-4723-8978-fbdf0a738e96"
      },
      "execution_count": 19,
      "outputs": [
        {
          "output_type": "stream",
          "name": "stdout",
          "text": [
            "이노래에서 'yesterday'는 총 9 번 나옵니다\n"
          ]
        }
      ]
    },
    {
      "cell_type": "markdown",
      "source": [
        "예제 문자열위치접근"
      ],
      "metadata": {
        "id": "ZQk11lYmkD8Z"
      }
    },
    {
      "cell_type": "code",
      "source": [
        "ml=[\"안산공고\",\"컴퓨터\",3,1,2022]\n",
        "print(ml)\n",
        "print(ml[0])\n",
        "print(ml[4],ml[3])"
      ],
      "metadata": {
        "colab": {
          "base_uri": "https://localhost:8080/"
        },
        "id": "GrZJyPy1kEEo",
        "outputId": "6261d87c-ebf6-4caa-c397-64b9ccf0a7f2"
      },
      "execution_count": 22,
      "outputs": [
        {
          "output_type": "stream",
          "name": "stdout",
          "text": [
            "['안산공고', '컴퓨터', 3, 1, 2022]\n",
            "안산공고\n",
            "2022 1\n"
          ]
        }
      ]
    },
    {
      "cell_type": "markdown",
      "source": [
        "예제 문자열"
      ],
      "metadata": {
        "id": "sXgZ2yV2moXQ"
      }
    },
    {
      "cell_type": "code",
      "source": [
        "a=\"Ansan Technical High School\"\n",
        "print(a)\n",
        "print(a[0])\n",
        "print(a[0:5])\n",
        "print(a[16:20])"
      ],
      "metadata": {
        "colab": {
          "base_uri": "https://localhost:8080/"
        },
        "id": "6IPsw4CPmogI",
        "outputId": "90ba015b-161a-405f-851a-48debadde2cd"
      },
      "execution_count": 26,
      "outputs": [
        {
          "output_type": "stream",
          "name": "stdout",
          "text": [
            "Ansan Technical High School\n",
            "A\n",
            "Ansan\n",
            "High\n"
          ]
        }
      ]
    },
    {
      "cell_type": "markdown",
      "source": [
        "예제 반복문"
      ],
      "metadata": {
        "id": "AC-A0eayntFJ"
      }
    },
    {
      "cell_type": "code",
      "source": [
        "while True :\n",
        "  a=input(\"문자열 입력 : \")\n",
        "  if a==\"q\" :\n",
        "    break\n",
        "  print(a)"
      ],
      "metadata": {
        "colab": {
          "base_uri": "https://localhost:8080/"
        },
        "id": "8cmt1GtLntNZ",
        "outputId": "844fe859-2f4f-4c57-f00c-af65392f4f69"
      },
      "execution_count": 27,
      "outputs": [
        {
          "name": "stdout",
          "output_type": "stream",
          "text": [
            "문자열 입력 : a\n",
            "a\n",
            "문자열 입력 : a\n",
            "a\n",
            "문자열 입력 : a\n",
            "a\n",
            "문자열 입력 : a\n",
            "a\n",
            "문자열 입력 : q\n"
          ]
        }
      ]
    },
    {
      "cell_type": "markdown",
      "source": [
        "형성평가 문자열뒤집기"
      ],
      "metadata": {
        "id": "-J5h-c3zrGy5"
      }
    },
    {
      "cell_type": "code",
      "source": [
        "a1=input(\"문자열을 입력해주세요 : \")\n",
        "\n",
        "print(\"원본 문자열 ==>\",a1)\n",
        "b=len(a1)\n",
        "c=\"\"\n",
        "while b>0 :\n",
        "  c=c+a1[b-1]\n",
        "  b-=1\n",
        "print(\"뒤집힌 문자열 ==>\", c)\n",
        "\n",
        "\n"
      ],
      "metadata": {
        "colab": {
          "base_uri": "https://localhost:8080/"
        },
        "id": "ke_9BuevrG5u",
        "outputId": "d700c919-e2af-4df9-e00c-4b1ae9490f15"
      },
      "execution_count": 33,
      "outputs": [
        {
          "output_type": "stream",
          "name": "stdout",
          "text": [
            "문자열을 입력해주세요 : 김동빈은베트남에서온불법체류자야생에서생고기를먹는남자베어그릴스도울고갈레알미친똥통\n",
            "원본 문자열 ==> 김동빈은베트남에서온불법체류자야생에서생고기를먹는남자베어그릴스도울고갈레알미친똥통\n",
            "뒤집힌 문자열 ==> 통똥친미알레갈고울도스릴그어베자남는먹를기고생서에생야자류체법불온서에남트베은빈동김\n"
          ]
        }
      ]
    },
    {
      "cell_type": "markdown",
      "source": [
        "형성평가 대문자소문자"
      ],
      "metadata": {
        "id": "dBBbY85JuK0Q"
      }
    },
    {
      "cell_type": "code",
      "source": [
        "a=input(\"영어를 입력해주세요 :\")\n",
        "b=0\n",
        "while len(a) > b :\n",
        "  if a[b].isupper():\n",
        "    a[b]=a[b].lower()\n",
        "  else :\n",
        "    a[b]=a[b].upper()\n",
        "    b+=1\n",
        "print(\"반대문자열 :\", a)\n",
        "\n",
        "\n",
        "  "
      ],
      "metadata": {
        "colab": {
          "base_uri": "https://localhost:8080/",
          "height": 266
        },
        "id": "h2EK-y3FuK_v",
        "outputId": "c72c371b-a3aa-4bcf-b61e-2ab52f78ebaf"
      },
      "execution_count": 39,
      "outputs": [
        {
          "name": "stdout",
          "output_type": "stream",
          "text": [
            "영어를 입력해주세요 :ab\n"
          ]
        },
        {
          "output_type": "error",
          "ename": "TypeError",
          "evalue": "ignored",
          "traceback": [
            "\u001b[0;31m---------------------------------------------------------------------------\u001b[0m",
            "\u001b[0;31mTypeError\u001b[0m                                 Traceback (most recent call last)",
            "\u001b[0;32m<ipython-input-39-22a3be34eef4>\u001b[0m in \u001b[0;36m<module>\u001b[0;34m\u001b[0m\n\u001b[1;32m      5\u001b[0m     \u001b[0ma\u001b[0m\u001b[0;34m[\u001b[0m\u001b[0mb\u001b[0m\u001b[0;34m]\u001b[0m\u001b[0;34m=\u001b[0m\u001b[0ma\u001b[0m\u001b[0;34m[\u001b[0m\u001b[0mb\u001b[0m\u001b[0;34m]\u001b[0m\u001b[0;34m.\u001b[0m\u001b[0mlower\u001b[0m\u001b[0;34m(\u001b[0m\u001b[0;34m)\u001b[0m\u001b[0;34m\u001b[0m\u001b[0;34m\u001b[0m\u001b[0m\n\u001b[1;32m      6\u001b[0m   \u001b[0;32melse\u001b[0m \u001b[0;34m:\u001b[0m\u001b[0;34m\u001b[0m\u001b[0;34m\u001b[0m\u001b[0m\n\u001b[0;32m----> 7\u001b[0;31m     \u001b[0ma\u001b[0m\u001b[0;34m[\u001b[0m\u001b[0mb\u001b[0m\u001b[0;34m]\u001b[0m\u001b[0;34m=\u001b[0m\u001b[0ma\u001b[0m\u001b[0;34m[\u001b[0m\u001b[0mb\u001b[0m\u001b[0;34m]\u001b[0m\u001b[0;34m.\u001b[0m\u001b[0mupper\u001b[0m\u001b[0;34m(\u001b[0m\u001b[0;34m)\u001b[0m\u001b[0;34m\u001b[0m\u001b[0;34m\u001b[0m\u001b[0m\n\u001b[0m\u001b[1;32m      8\u001b[0m     \u001b[0mb\u001b[0m\u001b[0;34m+=\u001b[0m\u001b[0;36m1\u001b[0m\u001b[0;34m\u001b[0m\u001b[0;34m\u001b[0m\u001b[0m\n\u001b[1;32m      9\u001b[0m \u001b[0mprint\u001b[0m\u001b[0;34m(\u001b[0m\u001b[0;34m\"반대문자열 :\"\u001b[0m\u001b[0;34m,\u001b[0m \u001b[0ma\u001b[0m\u001b[0;34m)\u001b[0m\u001b[0;34m\u001b[0m\u001b[0;34m\u001b[0m\u001b[0m\n",
            "\u001b[0;31mTypeError\u001b[0m: 'str' object does not support item assignment"
          ]
        }
      ]
    }
  ]
}