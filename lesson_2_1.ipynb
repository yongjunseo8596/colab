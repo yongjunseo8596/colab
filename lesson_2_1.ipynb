{
  "nbformat": 4,
  "nbformat_minor": 0,
  "metadata": {
    "colab": {
      "name": "lesson 2-1.ipynb",
      "provenance": [],
      "authorship_tag": "ABX9TyNVugO7lcf7Cqjzp5Gc/RKs",
      "include_colab_link": true
    },
    "kernelspec": {
      "name": "python3",
      "display_name": "Python 3"
    },
    "language_info": {
      "name": "python"
    }
  },
  "cells": [
    {
      "cell_type": "markdown",
      "metadata": {
        "id": "view-in-github",
        "colab_type": "text"
      },
      "source": [
        "<a href=\"https://colab.research.google.com/github/yongjunseo8596/colab/blob/main/lesson_2_1.ipynb\" target=\"_parent\"><img src=\"https://colab.research.google.com/assets/colab-badge.svg\" alt=\"Open In Colab\"/></a>"
      ]
    },
    {
      "cell_type": "markdown",
      "source": [
        "2장 예제1-1"
      ],
      "metadata": {
        "id": "4bWYOGnKkWbq"
      }
    },
    {
      "cell_type": "code",
      "execution_count": 1,
      "metadata": {
        "colab": {
          "base_uri": "https://localhost:8080/"
        },
        "id": "cN4p6nsbjfCF",
        "outputId": "14dff881-bef6-46de-a234-a984892430d3"
      },
      "outputs": [
        {
          "output_type": "stream",
          "name": "stdout",
          "text": [
            "100 + 200 = 300\n"
          ]
        }
      ],
      "source": [
        "a = 100\n",
        "b=200\n",
        "c=a+b\n",
        "print(a, \"+\", b, \"=\", c)"
      ]
    },
    {
      "cell_type": "markdown",
      "source": [
        "2장 예제1-2"
      ],
      "metadata": {
        "id": "7-mQYw4glH6B"
      }
    },
    {
      "cell_type": "code",
      "source": [
        "a=100\n",
        "b=50\n",
        "c=a-b\n",
        "print(a, \"-\", b, \"=\", c)"
      ],
      "metadata": {
        "colab": {
          "base_uri": "https://localhost:8080/"
        },
        "id": "Rj-PFLyXlIna",
        "outputId": "3549a727-f96d-4e98-b2ca-65354e660b35"
      },
      "execution_count": 2,
      "outputs": [
        {
          "output_type": "stream",
          "name": "stdout",
          "text": [
            "100 - 50 = 50\n"
          ]
        }
      ]
    },
    {
      "cell_type": "markdown",
      "source": [
        "2장 예제1-3"
      ],
      "metadata": {
        "id": "c2zgDO_Pl-BB"
      }
    },
    {
      "cell_type": "code",
      "source": [
        "a=8\n",
        "b=17\n",
        "c=a*b\n",
        "print(a, \"*\", b, \"=\", c)"
      ],
      "metadata": {
        "colab": {
          "base_uri": "https://localhost:8080/"
        },
        "id": "4PKlkc8Fl-Mg",
        "outputId": "e0447395-fcab-46a3-ea03-03c60167b9d6"
      },
      "execution_count": 3,
      "outputs": [
        {
          "output_type": "stream",
          "name": "stdout",
          "text": [
            "8 * 17 = 136\n"
          ]
        }
      ]
    },
    {
      "cell_type": "markdown",
      "source": [
        "2장 예제1-4"
      ],
      "metadata": {
        "id": "Al4lZ9E4mNsZ"
      }
    },
    {
      "cell_type": "code",
      "source": [
        "a=8\n",
        "b=17\n",
        "c=a/b\n",
        "print(a, \"/\", b, \"=\", c)"
      ],
      "metadata": {
        "colab": {
          "base_uri": "https://localhost:8080/"
        },
        "id": "33DWwKVWmNzW",
        "outputId": "b9e515c9-184b-4253-bc9c-46a097993cc8"
      },
      "execution_count": 4,
      "outputs": [
        {
          "output_type": "stream",
          "name": "stdout",
          "text": [
            "8 / 17 = 0.47058823529411764\n"
          ]
        }
      ]
    },
    {
      "cell_type": "markdown",
      "source": [
        "2장 예제1-5"
      ],
      "metadata": {
        "id": "KjuqAFo2miLZ"
      }
    },
    {
      "cell_type": "code",
      "source": [
        "a=4\n",
        "b=2\n",
        "c=a%b\n",
        "print(a, \"%\", b, \"=\", c)"
      ],
      "metadata": {
        "colab": {
          "base_uri": "https://localhost:8080/"
        },
        "id": "c0sJ4DfdmiTy",
        "outputId": "eaf64ed6-f512-4d9a-dc9d-11879779bee2"
      },
      "execution_count": 7,
      "outputs": [
        {
          "output_type": "stream",
          "name": "stdout",
          "text": [
            "4 % 2 = 0\n"
          ]
        }
      ]
    },
    {
      "cell_type": "markdown",
      "source": [
        "2장 예제1-6"
      ],
      "metadata": {
        "id": "d2olhzUVm5II"
      }
    },
    {
      "cell_type": "code",
      "source": [
        "a=4\n",
        "b=2\n",
        "c=a//b\n",
        "print(a, \"//\", b, \"=\", c)"
      ],
      "metadata": {
        "colab": {
          "base_uri": "https://localhost:8080/"
        },
        "id": "GjdvhFrqm5Ox",
        "outputId": "ce0f4a87-a8bc-44eb-9e79-7e339b66f183"
      },
      "execution_count": 8,
      "outputs": [
        {
          "output_type": "stream",
          "name": "stdout",
          "text": [
            "4 // 2 = 2\n"
          ]
        }
      ]
    },
    {
      "cell_type": "markdown",
      "source": [
        "2장 예제1-7"
      ],
      "metadata": {
        "id": "a49Kh8l5nYod"
      }
    },
    {
      "cell_type": "code",
      "source": [
        "a=\"안산공고\"\n",
        "b=\"컴퓨터과\"\n",
        "c=a+b\n",
        "print(a,\"+\",b,\"=\",c)"
      ],
      "metadata": {
        "colab": {
          "base_uri": "https://localhost:8080/"
        },
        "id": "U8r3WIM6nYxA",
        "outputId": "9eda407d-f931-4b1c-89c3-a7a90bc1101e"
      },
      "execution_count": 11,
      "outputs": [
        {
          "output_type": "stream",
          "name": "stdout",
          "text": [
            "안산공고 + 컴퓨터과 = 안산공고컴퓨터과\n"
          ]
        }
      ]
    },
    {
      "cell_type": "markdown",
      "source": [
        "2장 예제1-8"
      ],
      "metadata": {
        "id": "KyZTaFxqofea"
      }
    },
    {
      "cell_type": "code",
      "source": [
        "a=\"안산공고\"\n",
        "b=a*3\n",
        "print(a,\"*\",\"3\",\"=\",b)"
      ],
      "metadata": {
        "colab": {
          "base_uri": "https://localhost:8080/"
        },
        "id": "4OLV3xUenphP",
        "outputId": "0b971fc1-dae9-4f9a-cdd6-791835b714fb"
      },
      "execution_count": 12,
      "outputs": [
        {
          "output_type": "stream",
          "name": "stdout",
          "text": [
            "안산공고 * 3 = 안산공고안산공고안산공고\n"
          ]
        }
      ]
    },
    {
      "cell_type": "markdown",
      "source": [
        "2장 형성평가 1"
      ],
      "metadata": {
        "id": "9zg0CKBInpbP"
      }
    },
    {
      "cell_type": "code",
      "source": [
        "a=100\n",
        "b=200\n",
        "c1=a+b\n",
        "c2=a-b\n",
        "c3=a*b\n",
        "c4=a/b\n",
        "print(a,\"+\",b,\"=\",c1)\n",
        "print(a,\"-\",b,\"=\",c2)\n",
        "print(a,\"*\",b,\"=\",c3)\n",
        "print(a,\"/\",b,\"=\",c4)\n"
      ],
      "metadata": {
        "colab": {
          "base_uri": "https://localhost:8080/"
        },
        "id": "zJHS5-ytof2Y",
        "outputId": "ef0123e5-d4a0-4a96-b4d1-cfa6d1d0749e"
      },
      "execution_count": 13,
      "outputs": [
        {
          "output_type": "stream",
          "name": "stdout",
          "text": [
            "100 + 200 = 300\n",
            "100 - 200 = -100\n",
            "100 * 200 = 20000\n",
            "100 / 200 = 0.5\n"
          ]
        }
      ]
    },
    {
      "cell_type": "markdown",
      "source": [
        "2장 예제2-1"
      ],
      "metadata": {
        "id": "tW38nNAxpAJx"
      }
    },
    {
      "cell_type": "code",
      "source": [
        "a=int(input(\"숫자1==>\"))\n",
        "b=int(input(\"숫자2==>\"))\n",
        "c=a+b\n",
        "print(c)"
      ],
      "metadata": {
        "colab": {
          "base_uri": "https://localhost:8080/"
        },
        "id": "ZLf6f2S6pAVw",
        "outputId": "089c8a8d-a628-4d65-da8c-394bf02971ef"
      },
      "execution_count": 15,
      "outputs": [
        {
          "output_type": "stream",
          "name": "stdout",
          "text": [
            "숫자1==>10614655\n",
            "숫자2==>56213565\n",
            "66828220\n"
          ]
        }
      ]
    },
    {
      "cell_type": "markdown",
      "source": [
        "2장 예제2-2"
      ],
      "metadata": {
        "id": "AebmWqUQsA0g"
      }
    },
    {
      "cell_type": "code",
      "source": [
        "a=input(\"이름==>\")\n",
        "b=input(\"전화번호==>\")\n",
        "print(\"제 이름은 \",a,\"이고, 연락처는 \",b,\"입니다.\")\n"
      ],
      "metadata": {
        "colab": {
          "base_uri": "https://localhost:8080/"
        },
        "id": "76m2KCjRsCqg",
        "outputId": "301fae18-4f83-4934-9e2d-676ea3c7a74f"
      },
      "execution_count": 17,
      "outputs": [
        {
          "output_type": "stream",
          "name": "stdout",
          "text": [
            "이름==>용준서\n",
            "전화번호==>01085961233\n",
            "제 이름은  용준서 이고, 연락처는  01085961233 입니다.\n"
          ]
        }
      ]
    },
    {
      "cell_type": "markdown",
      "source": [
        "2장 형성평가2"
      ],
      "metadata": {
        "id": "q0LE2cUjszVg"
      }
    },
    {
      "cell_type": "code",
      "source": [
        "print(\"## 택배를 보내기 위한 정보를 입력하세요. ##\")\n",
        "a=input(\"받는사람 :\")\n",
        "b=input(\"주소 :\")\n",
        "c=int(input(\"무게(g) :\"))\n",
        "print(\"받는사람==>\",a)\n",
        "print(\"주소==>\",b)\n",
        "print(\"배송비==>\",c*5,\"원\")\n",
        "\n"
      ],
      "metadata": {
        "colab": {
          "base_uri": "https://localhost:8080/"
        },
        "id": "Sb8sbQDDszeA",
        "outputId": "80f5235a-5fdd-49a7-c859-45095eac93b1"
      },
      "execution_count": 22,
      "outputs": [
        {
          "output_type": "stream",
          "name": "stdout",
          "text": [
            "## 택배를 보내기 위한 정보를 입력하세요. ##\n",
            "받는사람 :d\n",
            "주소 :d\n",
            "무게(g) :100\n",
            "받는사람==> d\n",
            "주소==> d\n",
            "배송비==> 500 원\n"
          ]
        }
      ]
    },
    {
      "cell_type": "markdown",
      "source": [
        "2장 예제3-1"
      ],
      "metadata": {
        "id": "RtCuXxPBttVh"
      }
    },
    {
      "cell_type": "code",
      "source": [
        "a=int(input(\"숫자1==>\"))\n",
        "b=int(input(\"숫자2==>\"))\n",
        "c1=a+b\n",
        "c2=a-b\n",
        "c3=a*b\n",
        "c4=a/b\n",
        "c5=a%b\n",
        "c6=a**b\n",
        "print(a,\"+\",b\"=\",c1)\n",
        "print(a,\"-\",b,\"=\",c2)\n",
        "print(a,\"*\",b\"=\",c3)\n",
        "print(a,\"/\",b,\"=\",c4)\n",
        "print(a,\"%\",b,\"=\",c5)\n",
        "print(a,\"**\",b,\"=\",c6)"
      ],
      "metadata": {
        "colab": {
          "base_uri": "https://localhost:8080/"
        },
        "id": "ZAObcfywtthK",
        "outputId": "1dffe7d0-d1c6-4d35-ff79-5339327b8748"
      },
      "execution_count": 27,
      "outputs": [
        {
          "output_type": "stream",
          "name": "stdout",
          "text": [
            "숫자1==>100\n",
            "숫자2==>10\n",
            "100 + b'=' 110\n",
            "100 - 10 = 90\n",
            "100 * b'=' 1000\n",
            "100 / 10 = 10.0\n",
            "100 % 10 = 0\n",
            "100 ** 10 = 100000000000000000000\n"
          ]
        }
      ]
    },
    {
      "cell_type": "markdown",
      "source": [
        "거북이 1번예제"
      ],
      "metadata": {
        "id": "C3Mk_hGVvR0o"
      }
    },
    {
      "cell_type": "code",
      "source": [
        "#!pip3 install ColabTurtle\n",
        "import ColabTurtle.Turtle as turtle\n",
        "\n",
        "turtle.initializeTurtle()\n",
        "turtle.forward(50)\n",
        "turtle.left(90)\n",
        "turtle.forward(50)\n",
        "turtle.left(90)\n",
        "turtle.forward(50)\n",
        "turtle.left(90)\n",
        "turtle.forward(50)\n",
        "\n",
        "turtle.forward(100)\n",
        "turtle.left(120)\n",
        "turtle.forward(50)\n",
        "turtle.left(120)\n",
        "turtle.forward(50)\n",
        "turtle.left(120)\n",
        "\n",
        "\n",
        "\n",
        "\n",
        "\n",
        "\n",
        "\n"
      ],
      "metadata": {
        "colab": {
          "base_uri": "https://localhost:8080/",
          "height": 520
        },
        "id": "w9SLqCgPvR-4",
        "outputId": "f01df7b8-0c23-4c46-f17e-bcbd5a422d4d"
      },
      "execution_count": 44,
      "outputs": [
        {
          "output_type": "display_data",
          "data": {
            "text/plain": [
              "<IPython.core.display.HTML object>"
            ],
            "text/html": [
              "\n",
              "      <svg width=\"800\" height=\"500\">\n",
              "        <rect width=\"100%\" height=\"100%\" fill=\"black\"/>\n",
              "        <line x1=\"400\" y1=\"250\" x2=\"400.0\" y2=\"200.0\" stroke-linecap=\"round\" style=\"stroke:white;stroke-width:4\"/><line x1=\"400.0\" y1=\"200.0\" x2=\"350.0\" y2=\"200.0\" stroke-linecap=\"round\" style=\"stroke:white;stroke-width:4\"/><line x1=\"350.0\" y1=\"200.0\" x2=\"350.0\" y2=\"250.0\" stroke-linecap=\"round\" style=\"stroke:white;stroke-width:4\"/><line x1=\"350.0\" y1=\"250.0\" x2=\"400.0\" y2=\"250.0\" stroke-linecap=\"round\" style=\"stroke:white;stroke-width:4\"/><line x1=\"400.0\" y1=\"250.0\" x2=\"500.0\" y2=\"250.0\" stroke-linecap=\"round\" style=\"stroke:white;stroke-width:4\"/><line x1=\"500.0\" y1=\"250.0\" x2=\"475.0\" y2=\"206.699\" stroke-linecap=\"round\" style=\"stroke:white;stroke-width:4\"/><line x1=\"475.0\" y1=\"206.699\" x2=\"450.0\" y2=\"250.0\" stroke-linecap=\"round\" style=\"stroke:white;stroke-width:4\"/>\n",
              "        <g visibility=visible transform=\"rotate(90,450.0,250.0) translate(432.0, 232.0)\">\n",
              "<path style=\" stroke:none;fill-rule:evenodd;fill:white;fill-opacity:1;\" d=\"M 18.214844 0.632812 C 16.109375 1.800781 15.011719 4.074219 15.074219 7.132812 L 15.085938 7.652344 L 14.785156 7.496094 C 13.476562 6.824219 11.957031 6.671875 10.40625 7.066406 C 8.46875 7.550781 6.515625 9.15625 4.394531 11.992188 C 3.0625 13.777344 2.679688 14.636719 3.042969 15.027344 L 3.15625 15.152344 L 3.519531 15.152344 C 4.238281 15.152344 4.828125 14.886719 8.1875 13.039062 C 9.386719 12.378906 10.371094 11.839844 10.378906 11.839844 C 10.386719 11.839844 10.355469 11.929688 10.304688 12.035156 C 9.832031 13.09375 9.257812 14.820312 8.96875 16.078125 C 7.914062 20.652344 8.617188 24.53125 11.070312 27.660156 C 11.351562 28.015625 11.363281 27.914062 10.972656 28.382812 C 8.925781 30.84375 7.945312 33.28125 8.238281 35.1875 C 8.289062 35.527344 8.28125 35.523438 8.917969 35.523438 C 10.941406 35.523438 13.074219 34.207031 15.136719 31.6875 C 15.359375 31.417969 15.328125 31.425781 15.5625 31.574219 C 16.292969 32.042969 18.023438 32.964844 18.175781 32.964844 C 18.335938 32.964844 19.941406 32.210938 20.828125 31.71875 C 20.996094 31.625 21.136719 31.554688 21.136719 31.558594 C 21.203125 31.664062 21.898438 32.414062 22.222656 32.730469 C 23.835938 34.300781 25.5625 35.132812 27.582031 35.300781 C 27.90625 35.328125 27.9375 35.308594 28.007812 34.984375 C 28.382812 33.242188 27.625 30.925781 25.863281 28.425781 L 25.542969 27.96875 L 25.699219 27.785156 C 28.945312 23.960938 29.132812 18.699219 26.257812 11.96875 L 26.207031 11.84375 L 27.945312 12.703125 C 31.53125 14.476562 32.316406 14.800781 33.03125 14.800781 C 33.976562 14.800781 33.78125 13.9375 32.472656 12.292969 C 28.519531 7.355469 25.394531 5.925781 21.921875 7.472656 L 21.558594 7.636719 L 21.578125 7.542969 C 21.699219 6.992188 21.761719 5.742188 21.699219 5.164062 C 21.496094 3.296875 20.664062 1.964844 19.003906 0.855469 C 18.480469 0.503906 18.457031 0.5 18.214844 0.632812\"/>\n",
              "</g>\n",
              "      </svg>\n",
              "    "
            ]
          },
          "metadata": {}
        }
      ]
    }
  ]
}