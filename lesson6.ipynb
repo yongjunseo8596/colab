{
  "nbformat": 4,
  "nbformat_minor": 0,
  "metadata": {
    "colab": {
      "provenance": [],
      "authorship_tag": "ABX9TyNchYdi5dJwfK21/dQHvrq5",
      "include_colab_link": true
    },
    "kernelspec": {
      "name": "python3",
      "display_name": "Python 3"
    },
    "language_info": {
      "name": "python"
    }
  },
  "cells": [
    {
      "cell_type": "markdown",
      "metadata": {
        "id": "view-in-github",
        "colab_type": "text"
      },
      "source": [
        "<a href=\"https://colab.research.google.com/github/yongjunseo8596/colab/blob/main/lesson6.ipynb\" target=\"_parent\"><img src=\"https://colab.research.google.com/assets/colab-badge.svg\" alt=\"Open In Colab\"/></a>"
      ]
    },
    {
      "cell_type": "markdown",
      "source": [
        "for문 1"
      ],
      "metadata": {
        "id": "NUv8huNeulzr"
      }
    },
    {
      "cell_type": "code",
      "execution_count": null,
      "metadata": {
        "colab": {
          "base_uri": "https://localhost:8080/"
        },
        "id": "Dh4Wcjwjuj91",
        "outputId": "ad595c4d-d517-4383-842e-6533f7dfb2de"
      },
      "outputs": [
        {
          "output_type": "stream",
          "name": "stdout",
          "text": [
            "난생처음 파이썬은 재밌는데 인구쌤은 재미없습니다. ^^\n",
            "난생처음 파이썬은 재밌는데 인구쌤은 재미없습니다. ^^\n",
            "난생처음 파이썬은 재밌는데 인구쌤은 재미없습니다. ^^\n"
          ]
        }
      ],
      "source": [
        "for i in range(3) :\n",
        "  print(\"난생처음 파이썬은 재밌는데 인구쌤은 재미없습니다. ^^\")\n",
        "  "
      ]
    },
    {
      "cell_type": "markdown",
      "source": [
        "for문 2"
      ],
      "metadata": {
        "id": "ZtUCWvWnvr_t"
      }
    },
    {
      "cell_type": "code",
      "source": [
        "for i in range(3) :\n",
        "  print(i,\"안산공고\")\n",
        "  "
      ],
      "metadata": {
        "id": "bL0CO0RNvsH0"
      },
      "execution_count": null,
      "outputs": []
    },
    {
      "cell_type": "markdown",
      "source": [
        "for문 3"
      ],
      "metadata": {
        "id": "zh-RoxdQwKLE"
      }
    },
    {
      "cell_type": "code",
      "source": [
        "a=[\"짜장면\",\"김밥\",\"라면\"]\n",
        "for i in a :\n",
        "  print(i)"
      ],
      "metadata": {
        "colab": {
          "base_uri": "https://localhost:8080/"
        },
        "id": "GK5nh_V9wKS1",
        "outputId": "6e9ff4e0-63e5-44ef-c8f5-29ee2ccb9338"
      },
      "execution_count": null,
      "outputs": [
        {
          "output_type": "stream",
          "name": "stdout",
          "text": [
            "짜장면\n",
            "김밥\n",
            "라면\n"
          ]
        }
      ]
    },
    {
      "cell_type": "markdown",
      "source": [
        "for문 4"
      ],
      "metadata": {
        "id": "9NweiuedwVfj"
      }
    },
    {
      "cell_type": "code",
      "source": [
        "for i in range(2,8,1): #첫번째 시작값, 두번째 최대값, 세번째 늘어나는단위\n",
        "  print(i)"
      ],
      "metadata": {
        "colab": {
          "base_uri": "https://localhost:8080/"
        },
        "id": "FSZWOiWlwVp_",
        "outputId": "b247d06e-7a5f-4929-f2cf-8d5b1024d609"
      },
      "execution_count": null,
      "outputs": [
        {
          "output_type": "stream",
          "name": "stdout",
          "text": [
            "2\n",
            "3\n",
            "4\n",
            "5\n",
            "6\n",
            "7\n"
          ]
        }
      ]
    },
    {
      "cell_type": "markdown",
      "source": [
        "인구쓰앵의 즉석 for 문제"
      ],
      "metadata": {
        "id": "xKjCcjyjw_wj"
      }
    },
    {
      "cell_type": "code",
      "source": [
        "a=0\n",
        "for i in range(1,100,2):\n",
        "  a+=i\n",
        "  print(a)"
      ],
      "metadata": {
        "id": "-piC78Nnw_4z"
      },
      "execution_count": null,
      "outputs": []
    },
    {
      "cell_type": "markdown",
      "source": [
        "인구쓰앵의 즉석 for 문제 2"
      ],
      "metadata": {
        "id": "erJ6tA97xsdl"
      }
    },
    {
      "cell_type": "code",
      "source": [
        "a=0\n",
        "b=1\n",
        "for i in range(1, 99, 2) :\n",
        "  if b == 1:\n",
        "    a+=1\n",
        "    b*=-1\n",
        "  else :\n",
        "    a-=i\n",
        "    b*=-1\n",
        "print(a)"
      ],
      "metadata": {
        "colab": {
          "base_uri": "https://localhost:8080/"
        },
        "id": "bm0so6v9xslM",
        "outputId": "c5317044-b2d1-4fe0-bc68-64edfa4b84a6"
      },
      "execution_count": null,
      "outputs": [
        {
          "output_type": "stream",
          "name": "stdout",
          "text": [
            "-1151\n"
          ]
        }
      ]
    },
    {
      "cell_type": "markdown",
      "source": [
        "형성평가 줄세우기"
      ],
      "metadata": {
        "id": "m3ZxkFDSzFld"
      }
    },
    {
      "cell_type": "code",
      "source": [
        "a=1\n",
        "b=5\n",
        "for i in range(1,b+1,1):\n",
        "  a*=i\n",
        "print(a)"
      ],
      "metadata": {
        "colab": {
          "base_uri": "https://localhost:8080/"
        },
        "id": "5TdRvuvWzFtb",
        "outputId": "f0244d08-bf09-4000-e578-7620ae00d7e1"
      },
      "execution_count": null,
      "outputs": [
        {
          "output_type": "stream",
          "name": "stdout",
          "text": [
            "120\n"
          ]
        }
      ]
    },
    {
      "cell_type": "markdown",
      "source": [
        "형성평가 1부터10까지"
      ],
      "metadata": {
        "id": "ox8t8ktR1V3b"
      }
    },
    {
      "cell_type": "code",
      "source": [
        "a=0\n",
        "for i in range(1,11,1):\n",
        "  a+=i\n",
        "print(a)"
      ],
      "metadata": {
        "colab": {
          "base_uri": "https://localhost:8080/"
        },
        "id": "ftqDzE_Q1V_D",
        "outputId": "7979255c-2b18-47db-c5c5-39260c851b2c"
      },
      "execution_count": null,
      "outputs": [
        {
          "output_type": "stream",
          "name": "stdout",
          "text": [
            "55\n"
          ]
        }
      ]
    },
    {
      "cell_type": "markdown",
      "source": [
        "1000~2000사이의 홀수의 합"
      ],
      "metadata": {
        "id": "RZm4-35d121K"
      }
    },
    {
      "cell_type": "code",
      "source": [
        "a,i=0,0\n",
        "for i in range(1001,2001,2):\n",
        "  a+=i\n",
        "print(a)"
      ],
      "metadata": {
        "colab": {
          "base_uri": "https://localhost:8080/"
        },
        "id": "chsN7PzG127r",
        "outputId": "bf0c1b1a-bad9-4f56-9203-1bd24419da85"
      },
      "execution_count": null,
      "outputs": [
        {
          "output_type": "stream",
          "name": "stdout",
          "text": [
            "750000\n"
          ]
        }
      ]
    },
    {
      "cell_type": "markdown",
      "source": [
        "중첩 4문"
      ],
      "metadata": {
        "id": "yvAeHZ4f3Xjc"
      }
    },
    {
      "cell_type": "code",
      "source": [
        "for i in range(3) :\n",
        "  for k in range(2) :\n",
        "    print(\"인구쌤 개그는 넘나 재미엄슴다 (i값:\",i,\"k값:\",k)"
      ],
      "metadata": {
        "colab": {
          "base_uri": "https://localhost:8080/"
        },
        "id": "UH2uIpjR3Xpy",
        "outputId": "b2aa447e-2a50-4d33-e741-77b0e1b1e38e"
      },
      "execution_count": null,
      "outputs": [
        {
          "output_type": "stream",
          "name": "stdout",
          "text": [
            "인구쌤 개그는 넘나 재미엄슴다 (i값: 0 k값: 0\n",
            "인구쌤 개그는 넘나 재미엄슴다 (i값: 0 k값: 1\n",
            "인구쌤 개그는 넘나 재미엄슴다 (i값: 1 k값: 0\n",
            "인구쌤 개그는 넘나 재미엄슴다 (i값: 1 k값: 1\n",
            "인구쌤 개그는 넘나 재미엄슴다 (i값: 2 k값: 0\n",
            "인구쌤 개그는 넘나 재미엄슴다 (i값: 2 k값: 1\n"
          ]
        }
      ]
    },
    {
      "cell_type": "markdown",
      "source": [
        "형성평가 구구단"
      ],
      "metadata": {
        "id": "MTyj_ymR3tWJ"
      }
    },
    {
      "cell_type": "code",
      "source": [
        "for i in range(2,10,1):\n",
        "  for k in range(1,10,1):\n",
        "    print(i,k,i*k)"
      ],
      "metadata": {
        "colab": {
          "base_uri": "https://localhost:8080/"
        },
        "id": "68UYgTuf3tcp",
        "outputId": "48cbe544-c75e-4770-f1f1-83a478900187"
      },
      "execution_count": 1,
      "outputs": [
        {
          "output_type": "stream",
          "name": "stdout",
          "text": [
            "2 1 2\n",
            "2 2 4\n",
            "2 3 6\n",
            "2 4 8\n",
            "2 5 10\n",
            "2 6 12\n",
            "2 7 14\n",
            "2 8 16\n",
            "2 9 18\n",
            "3 1 3\n",
            "3 2 6\n",
            "3 3 9\n",
            "3 4 12\n",
            "3 5 15\n",
            "3 6 18\n",
            "3 7 21\n",
            "3 8 24\n",
            "3 9 27\n",
            "4 1 4\n",
            "4 2 8\n",
            "4 3 12\n",
            "4 4 16\n",
            "4 5 20\n",
            "4 6 24\n",
            "4 7 28\n",
            "4 8 32\n",
            "4 9 36\n",
            "5 1 5\n",
            "5 2 10\n",
            "5 3 15\n",
            "5 4 20\n",
            "5 5 25\n",
            "5 6 30\n",
            "5 7 35\n",
            "5 8 40\n",
            "5 9 45\n",
            "6 1 6\n",
            "6 2 12\n",
            "6 3 18\n",
            "6 4 24\n",
            "6 5 30\n",
            "6 6 36\n",
            "6 7 42\n",
            "6 8 48\n",
            "6 9 54\n",
            "7 1 7\n",
            "7 2 14\n",
            "7 3 21\n",
            "7 4 28\n",
            "7 5 35\n",
            "7 6 42\n",
            "7 7 49\n",
            "7 8 56\n",
            "7 9 63\n",
            "8 1 8\n",
            "8 2 16\n",
            "8 3 24\n",
            "8 4 32\n",
            "8 5 40\n",
            "8 6 48\n",
            "8 7 56\n",
            "8 8 64\n",
            "8 9 72\n",
            "9 1 9\n",
            "9 2 18\n",
            "9 3 27\n",
            "9 4 36\n",
            "9 5 45\n",
            "9 6 54\n",
            "9 7 63\n",
            "9 8 72\n",
            "9 9 81\n"
          ]
        }
      ]
    },
    {
      "cell_type": "markdown",
      "source": [
        "while문의 무한반복"
      ],
      "metadata": {
        "id": "XFLqQKpE9lZY"
      }
    },
    {
      "cell_type": "code",
      "source": [
        "a=0\n",
        "a1,a1=0,0\n",
        "while True :\n",
        "  a1 = int(input(\"숫자==> : \"))\n",
        "  a2 = int(input(\"숫자==> : \"))\n",
        "  if a1==0 :\n",
        "    break;\n",
        "  elif a2==0 :\n",
        "    break;\n",
        "  else :\n",
        "    print(a)\n"
      ],
      "metadata": {
        "colab": {
          "base_uri": "https://localhost:8080/"
        },
        "id": "UVcq2Gvp9nue",
        "outputId": "92771e5d-2fce-46fc-858b-5dfffd93a06c"
      },
      "execution_count": 4,
      "outputs": [
        {
          "name": "stdout",
          "output_type": "stream",
          "text": [
            "숫자==> : 100\n",
            "숫자==> : 100\n",
            "0\n",
            "숫자==> : 0\n",
            "숫자==> : 0\n"
          ]
        }
      ]
    },
    {
      "cell_type": "markdown",
      "source": [
        "주사위 횟수"
      ],
      "metadata": {
        "id": "Gegqx82YCUiw"
      }
    },
    {
      "cell_type": "code",
      "source": [
        "import random\n",
        "a=0;\n",
        "a1,a2,a3 = 0,0,0;\n",
        "while True :\n",
        "  a+=1;\n",
        "  a1=random.randint(1,10)\n",
        "  a2=random.randint(1,100)\n",
        "  a3=random.randint(1,1000)\n",
        "  if a1==a2==a3 :\n",
        "    break;\n",
        "\n",
        "print(a1)\n",
        "print(a)"
      ],
      "metadata": {
        "colab": {
          "base_uri": "https://localhost:8080/"
        },
        "id": "9Wg743G7CUzI",
        "outputId": "64c50f23-70c3-4a5a-cb46-b7cc808e148d"
      },
      "execution_count": 19,
      "outputs": [
        {
          "output_type": "stream",
          "name": "stdout",
          "text": [
            "6\n",
            "285556\n"
          ]
        }
      ]
    },
    {
      "cell_type": "markdown",
      "source": [
        "컴퓨터가 생각하는 숫자 맞추기"
      ],
      "metadata": {
        "id": "wrODPbCOGOvq"
      }
    },
    {
      "cell_type": "code",
      "source": [
        "import random\n",
        "a,b,c=0,0,0\n",
        "b=random.randint(1,10)\n",
        "for i in range(1,11,1) :3\n",
        "7\n",
        "8\n",
        "\n",
        "  c+=1\n",
        "  a=int(input(\"숫자를 입력해주세요 : \"))\n",
        "  if a==b :\n",
        "    print(\"축하합니다.\",c,\"번만에 맞췄어요\")\n",
        "    break;\n",
        "  else :\n",
        "    print(\"틀렸습니다. 다시해보세요.\")"
      ],
      "metadata": {
        "colab": {
          "base_uri": "https://localhost:8080/"
        },
        "id": "bqbtEstqGO7z",
        "outputId": "fa726ef3-8ee2-42a9-eca1-b38551dbe213"
      },
      "execution_count": 22,
      "outputs": [
        {
          "output_type": "stream",
          "name": "stdout",
          "text": [
            "숫자를 입력해주세요 : 1\n",
            "틀렸습니다. 다시해보세요.\n",
            "숫자를 입력해주세요 : 2\n",
            "틀렸습니다. 다시해보세요.\n",
            "숫자를 입력해주세요 : 3\n",
            "틀렸습니다. 다시해보세요.\n",
            "숫자를 입력해주세요 : 4\n",
            "틀렸습니다. 다시해보세요.\n",
            "숫자를 입력해주세요 : 5\n",
            "틀렸습니다. 다시해보세요.\n",
            "숫자를 입력해주세요 : 6\n",
            "축하합니다. 6 번만에 맞췄어요\n"
          ]
        }
      ]
    },
    {
      "cell_type": "markdown",
      "source": [
        "야구 게임"
      ],
      "metadata": {
        "id": "-X_CrZZGHtDp"
      }
    },
    {
      "cell_type": "code",
      "source": [
        "import random\n",
        "c_l =[1,2,3,4,5,6,7,8,9]\n",
        "c_n =[],u_n=[]\n",
        "\n",
        "for i in range(3):\n",
        "  r=random.choice(c_l)\n",
        "  c_l.remove(r)\n",
        "  c_n.append(r)\n",
        "print(c_n)\n",
        "u= input(\"3개 숫자 입력 1~9까지 ==> : \")\n",
        "for i in range(0,5,2) :\n",
        "  u_n.append(u[i])\n",
        "st,ba=0,0\n",
        "for i in range(3):\n",
        "  if c_n[i] == u_n[i]:\n",
        "    st=st+1\n",
        "  elif u_n[i] == c_n[i]:\n",
        "    ba +=1\n",
        "  print(c_n,u_n,st)\n",
        "  if st == 3 : break"
      ],
      "metadata": {
        "colab": {
          "base_uri": "https://localhost:8080/"
        },
        "id": "Kc1-kDY_HtNQ",
        "outputId": "8e24f234-4450-43c7-b988-6f283921d2b4"
      },
      "execution_count": 30,
      "outputs": [
        {
          "output_type": "stream",
          "name": "stdout",
          "text": [
            "[40, 15, 17]\n",
            "3개 숫자 입력 1~50까지 ==> : 10,15,62\n",
            "10,15,62\n"
          ]
        }
      ]
    }
  ]
}