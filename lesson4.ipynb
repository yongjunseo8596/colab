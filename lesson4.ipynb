{
  "nbformat": 4,
  "nbformat_minor": 0,
  "metadata": {
    "colab": {
      "name": "lesson4.ipynb",
      "provenance": [],
      "authorship_tag": "ABX9TyOyNvgElcJ1vP67mTIuo5Ro",
      "include_colab_link": true
    },
    "kernelspec": {
      "name": "python3",
      "display_name": "Python 3"
    },
    "language_info": {
      "name": "python"
    }
  },
  "cells": [
    {
      "cell_type": "markdown",
      "metadata": {
        "id": "view-in-github",
        "colab_type": "text"
      },
      "source": [
        "<a href=\"https://colab.research.google.com/github/yongjunseo8596/colab/blob/main/lesson4.ipynb\" target=\"_parent\"><img src=\"https://colab.research.google.com/assets/colab-badge.svg\" alt=\"Open In Colab\"/></a>"
      ]
    },
    {
      "cell_type": "markdown",
      "source": [
        "데이터 타입 예제"
      ],
      "metadata": {
        "id": "_yRnh-JENRoB"
      }
    },
    {
      "cell_type": "code",
      "execution_count": 1,
      "metadata": {
        "colab": {
          "base_uri": "https://localhost:8080/"
        },
        "id": "Z28J0plqNPLF",
        "outputId": "32c65c49-7840-4353-c296-127187103a1d"
      },
      "outputs": [
        {
          "output_type": "stream",
          "name": "stdout",
          "text": [
            "100 의 타입은 <class 'int'>\n",
            "3.14 의 타입은 <class 'float'>\n",
            "안산공고 의 타입은 <class 'str'>\n",
            "True 의 타입은 <class 'bool'>\n"
          ]
        }
      ],
      "source": [
        "var1=100\n",
        "var2=3.14\n",
        "var3=\"안산공고\"\n",
        "var4=True\n",
        "\n",
        "print(var1,\"의 타입은\", type(var1))\n",
        "print(var2,\"의 타입은\", type(var2))\n",
        "print(var3,\"의 타입은\", type(var3))\n",
        "print(var4,\"의 타입은\", type(var4))"
      ]
    }
  ]
}