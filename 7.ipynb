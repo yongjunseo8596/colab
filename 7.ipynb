{
  "nbformat": 4,
  "nbformat_minor": 0,
  "metadata": {
    "colab": {
      "provenance": [],
      "authorship_tag": "ABX9TyMM/Cx3YA7ZUmqdVp2HbJgY",
      "include_colab_link": true
    },
    "kernelspec": {
      "name": "python3",
      "display_name": "Python 3"
    },
    "language_info": {
      "name": "python"
    }
  },
  "cells": [
    {
      "cell_type": "markdown",
      "metadata": {
        "id": "view-in-github",
        "colab_type": "text"
      },
      "source": [
        "<a href=\"https://colab.research.google.com/github/yongjunseo8596/colab/blob/main/7.ipynb\" target=\"_parent\"><img src=\"https://colab.research.google.com/assets/colab-badge.svg\" alt=\"Open In Colab\"/></a>"
      ]
    },
    {
      "cell_type": "markdown",
      "source": [],
      "metadata": {
        "id": "y6lYoN1mpqiU"
      }
    },
    {
      "cell_type": "code",
      "execution_count": 2,
      "metadata": {
        "id": "StFLanutpqBz",
        "colab": {
          "base_uri": "https://localhost:8080/"
        },
        "outputId": "38973efc-e5ef-48b4-9a3c-2aee19cd5e07"
      },
      "outputs": [
        {
          "output_type": "stream",
          "name": "stdout",
          "text": [
            "[10, 20, 200, 201]\n"
          ]
        }
      ],
      "source": [
        "numlist = [10,20,30]\n",
        "numlist[2:3] = [200,201]\n",
        "print(numlist)"
      ]
    },
    {
      "cell_type": "code",
      "source": [
        "numlist = [[1,2,3,4],\n",
        "           [5,6,7,8],\n",
        "           [9,10,11,12]]\n",
        "\n",
        "for i in range(0,3) :\n",
        "  for k in range(0,4) :\n",
        "    print(\"\",numlist[i][k],end=\"\")\n",
        "  print(\"\")"
      ],
      "metadata": {
        "colab": {
          "base_uri": "https://localhost:8080/"
        },
        "id": "mokRd-oV50yY",
        "outputId": "3a6a2d39-7a18-47d4-a1be-3c61a8c498d7"
      },
      "execution_count": 3,
      "outputs": [
        {
          "output_type": "stream",
          "name": "stdout",
          "text": [
            " 1 2 3 4\n",
            " 5 6 7 8\n",
            " 9 10 11 12\n"
          ]
        }
      ]
    },
    {
      "cell_type": "code",
      "source": [
        "score =[]\n",
        "for i in range(5) : \n",
        "  a = int(input(\"평균점수 =>\"))\n",
        "  score.append(a)\n",
        "\n",
        "hap = 0\n",
        "for i in range(5):\n",
        "  hap += score[i]\n",
        "avg = hap/5\n",
        "print(avg)\n",
        "\n"
      ],
      "metadata": {
        "id": "0-r8JyX59N3w"
      },
      "execution_count": null,
      "outputs": []
    },
    {
      "cell_type": "code",
      "source": [],
      "metadata": {
        "id": "sirDKcmY9-dY"
      },
      "execution_count": null,
      "outputs": []
    }
  ]
}