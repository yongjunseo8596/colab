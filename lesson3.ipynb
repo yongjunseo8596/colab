{
  "nbformat": 4,
  "nbformat_minor": 0,
  "metadata": {
    "colab": {
      "name": "lesson3.ipynb",
      "provenance": [],
      "authorship_tag": "ABX9TyO/zsfwuEaF/KKmXBUZoKy8",
      "include_colab_link": true
    },
    "kernelspec": {
      "name": "python3",
      "display_name": "Python 3"
    },
    "language_info": {
      "name": "python"
    }
  },
  "cells": [
    {
      "cell_type": "markdown",
      "metadata": {
        "id": "view-in-github",
        "colab_type": "text"
      },
      "source": [
        "<a href=\"https://colab.research.google.com/github/yongjunseo8596/colab/blob/main/lesson3.ipynb\" target=\"_parent\"><img src=\"https://colab.research.google.com/assets/colab-badge.svg\" alt=\"Open In Colab\"/></a>"
      ]
    },
    {
      "cell_type": "markdown",
      "source": [
        "예제 3-1"
      ],
      "metadata": {
        "id": "aHYayG0Q4lhT"
      }
    },
    {
      "cell_type": "code",
      "execution_count": 1,
      "metadata": {
        "colab": {
          "base_uri": "https://localhost:8080/"
        },
        "id": "fWvlM7pT2pCC",
        "outputId": "f4496655-1cf5-4228-f7c6-e596d8ee4692"
      },
      "outputs": [
        {
          "output_type": "stream",
          "name": "stdout",
          "text": [
            "나눠지는수 =>25\n",
            "나누는수 =>10\n",
            "25 를 10 로 나눈 몫은 2 입니다.\n",
            "25 를 10 로 나눈 나머지는 5 입니다.\n"
          ]
        }
      ],
      "source": [
        "a=int(input(\"나눠지는수 =>\"))\n",
        "b=int(input(\"나누는수 =>\"))\n",
        "c=a//b\n",
        "d=a%b\n",
        "print(a,\"를\",b,\"로 나눈 몫은\",c,\"입니다.\")\n",
        "print(a,\"를\",b,\"로 나눈 나머지는\",d,\"입니다.\")\n"
      ]
    },
    {
      "cell_type": "markdown",
      "source": [
        "예제 3-2"
      ],
      "metadata": {
        "id": "mKYOUTlk5L05"
      }
    },
    {
      "cell_type": "code",
      "source": [
        "a=int(input(\"숫자 1개를 입력하시오 =>\"))\n",
        "if  a%2==0 :\n",
        "  print(a,\"는 짝수입니다\")\n",
        "else :\n",
        "  print(a,\"홀수입니다\")"
      ],
      "metadata": {
        "colab": {
          "base_uri": "https://localhost:8080/"
        },
        "id": "2qvgdUfV5L7r",
        "outputId": "efc8e81f-3319-4afd-dde9-2102295dea76"
      },
      "execution_count": 2,
      "outputs": [
        {
          "output_type": "stream",
          "name": "stdout",
          "text": [
            "숫자 1개를 입력하시오 =>10\n",
            "10 는 짝수입니다\n"
          ]
        }
      ]
    },
    {
      "cell_type": "markdown",
      "source": [
        "형성평가1 파운드, 킬로그램 계산기"
      ],
      "metadata": {
        "id": "QFTwCfxB6EvJ"
      }
    },
    {
      "cell_type": "code",
      "source": [
        "a=int(input(\"파운드를 입력하세요 =>\"))\n",
        "b=a*0.453592\n",
        "print(a,\"파운드는\",round(b, 5),\"킬로그램입니다.\")\n",
        "c=int(input(\"킬로그램을 입력하세요 =>\"))\n",
        "d=c*2.204623\n",
        "print(c,\"킬로그램은\",round(d, 5),\"파운드입니다\")"
      ],
      "metadata": {
        "colab": {
          "base_uri": "https://localhost:8080/"
        },
        "id": "Xyv32ujL6E2Q",
        "outputId": "29143b7e-1693-4c68-8aa3-fbd29963ef41"
      },
      "execution_count": 14,
      "outputs": [
        {
          "output_type": "stream",
          "name": "stdout",
          "text": [
            "파운드를 입력하세요 =>15\n",
            "15 파운드는 6.80388 킬로그램입니다.\n",
            "킬로그램을 입력하세요 =>15\n",
            "15 킬로그램은 33.06935 파운드입니다\n"
          ]
        }
      ]
    },
    {
      "cell_type": "markdown",
      "source": [
        "형성평가2 bmi 계산기"
      ],
      "metadata": {
        "id": "3gWlCdvB6E9i"
      }
    },
    {
      "cell_type": "code",
      "source": [
        "a=float(input(\"키를 입력하세요 =>\"))\n",
        "b=float(input(\"몸무게를 입력하세요 =>\"))\n",
        "a=a*0.01\n",
        "c=b/(a*a)\n",
        "print(\"당신의 bmi는\",round(c,1),\"입니다\")\n"
      ],
      "metadata": {
        "colab": {
          "base_uri": "https://localhost:8080/"
        },
        "id": "ZIkxaQ_r6FEh",
        "outputId": "4bcb40c2-0dbb-46db-9694-bb665f9aa823"
      },
      "execution_count": 32,
      "outputs": [
        {
          "output_type": "stream",
          "name": "stdout",
          "text": [
            "키를 입력하세요 =>160\n",
            "몸무게를 입력하세요 =>64\n",
            "당신의 bmi는 25.0 입니다\n"
          ]
        }
      ]
    },
    {
      "cell_type": "markdown",
      "source": [
        "형성평가 3"
      ],
      "metadata": {
        "id": "VzppzYNn-_zs"
      }
    },
    {
      "cell_type": "code",
      "source": [
        "a=0\n",
        "a-=900*10\n",
        "a-=3500*5\n",
        "a+=1800*2\n",
        "a+=4000*4\n",
        "a+=1500\n",
        "a+=2000*4\n",
        "a+=1800*5\n",
        "print(\"오늘총 매출액은\",a,\"원 입니다.\")"
      ],
      "metadata": {
        "colab": {
          "base_uri": "https://localhost:8080/"
        },
        "id": "X9sdcpRo-_7R",
        "outputId": "43b90bb1-2f83-47a7-e7ca-7b887e9180c0"
      },
      "execution_count": 33,
      "outputs": [
        {
          "output_type": "stream",
          "name": "stdout",
          "text": [
            "오늘총 매출액은 11600 원 입니다.\n"
          ]
        }
      ]
    },
    {
      "cell_type": "markdown",
      "source": [
        "예제 3-3 (비교연산자)"
      ],
      "metadata": {
        "id": "Z4c1TdOBBfCl"
      }
    },
    {
      "cell_type": "code",
      "source": [
        "a=int(input(\"시험점수를 입력하세요.=>\"))\n",
        "print(a>=70)\n"
      ],
      "metadata": {
        "colab": {
          "base_uri": "https://localhost:8080/"
        },
        "id": "Ry3T3Dy9BfJ6",
        "outputId": "9ec9d983-cbda-4548-e610-69cfb20f6e82"
      },
      "execution_count": 36,
      "outputs": [
        {
          "output_type": "stream",
          "name": "stdout",
          "text": [
            "시험점수를 입력하세요.=>15644\n",
            "True\n"
          ]
        }
      ]
    },
    {
      "cell_type": "markdown",
      "source": [
        "형성평가 4"
      ],
      "metadata": {
        "id": "yc0j7hENFFsZ"
      }
    },
    {
      "cell_type": "code",
      "source": [
        "a=3\n",
        "b=2\n",
        "c=1\n",
        "\n",
        "A=4.5\n",
        "A0=4.0\n",
        "B=3.5\n",
        "d=((a*B)+(b*A0)+(c*A))/(a+b+c)\n",
        "print(\"평균학점 :\",round(d,2))"
      ],
      "metadata": {
        "colab": {
          "base_uri": "https://localhost:8080/"
        },
        "id": "AqnxC27cFFy5",
        "outputId": "5b0e7c7f-e3fb-439d-f80e-157de39fd7d0"
      },
      "execution_count": 46,
      "outputs": [
        {
          "output_type": "stream",
          "name": "stdout",
          "text": [
            "평균학점 : 3.83\n"
          ]
        }
      ]
    },
    {
      "cell_type": "markdown",
      "source": [
        "3장 거북이\n",
        "\n"
      ],
      "metadata": {
        "id": "wplnXg4XIPwA"
      }
    },
    {
      "cell_type": "code",
      "source": [
        "!pip3 install ColabTurtle\n",
        "import ColabTurtle.Turtle as turtle\n",
        "\n",
        "turtle.initializeTurtle()\n",
        "while True :\n",
        "  a=int(input(\"거북이 회전각도 : \"))\n",
        "  if a == 0 :\n",
        "    break;\n",
        "  b=int(input(\"거북이의 이동거리 : \"))\n",
        "\n",
        "turtle.left(a)\n",
        "turtle.forward(b)\n",
        "\n"
      ],
      "metadata": {
        "colab": {
          "base_uri": "https://localhost:8080/",
          "height": 594
        },
        "id": "7z4DXqs1IP37",
        "outputId": "6f7615b8-9b49-41b2-d0e7-7ca460d69f14"
      },
      "execution_count": 54,
      "outputs": [
        {
          "output_type": "stream",
          "name": "stdout",
          "text": [
            "Looking in indexes: https://pypi.org/simple, https://us-python.pkg.dev/colab-wheels/public/simple/\n",
            "Requirement already satisfied: ColabTurtle in /usr/local/lib/python3.7/dist-packages (2.1.0)\n"
          ]
        },
        {
          "output_type": "display_data",
          "data": {
            "text/plain": [
              "<IPython.core.display.HTML object>"
            ],
            "text/html": [
              "\n",
              "      <svg width=\"800\" height=\"500\">\n",
              "        <rect width=\"100%\" height=\"100%\" fill=\"black\"/>\n",
              "        <line x1=\"400\" y1=\"250\" x2=\"329.289\" y2=\"179.289\" stroke-linecap=\"round\" style=\"stroke:white;stroke-width:4\"/>\n",
              "        <g visibility=visible transform=\"rotate(315,329.289,179.289) translate(311.289, 161.289)\">\n",
              "<path style=\" stroke:none;fill-rule:evenodd;fill:white;fill-opacity:1;\" d=\"M 18.214844 0.632812 C 16.109375 1.800781 15.011719 4.074219 15.074219 7.132812 L 15.085938 7.652344 L 14.785156 7.496094 C 13.476562 6.824219 11.957031 6.671875 10.40625 7.066406 C 8.46875 7.550781 6.515625 9.15625 4.394531 11.992188 C 3.0625 13.777344 2.679688 14.636719 3.042969 15.027344 L 3.15625 15.152344 L 3.519531 15.152344 C 4.238281 15.152344 4.828125 14.886719 8.1875 13.039062 C 9.386719 12.378906 10.371094 11.839844 10.378906 11.839844 C 10.386719 11.839844 10.355469 11.929688 10.304688 12.035156 C 9.832031 13.09375 9.257812 14.820312 8.96875 16.078125 C 7.914062 20.652344 8.617188 24.53125 11.070312 27.660156 C 11.351562 28.015625 11.363281 27.914062 10.972656 28.382812 C 8.925781 30.84375 7.945312 33.28125 8.238281 35.1875 C 8.289062 35.527344 8.28125 35.523438 8.917969 35.523438 C 10.941406 35.523438 13.074219 34.207031 15.136719 31.6875 C 15.359375 31.417969 15.328125 31.425781 15.5625 31.574219 C 16.292969 32.042969 18.023438 32.964844 18.175781 32.964844 C 18.335938 32.964844 19.941406 32.210938 20.828125 31.71875 C 20.996094 31.625 21.136719 31.554688 21.136719 31.558594 C 21.203125 31.664062 21.898438 32.414062 22.222656 32.730469 C 23.835938 34.300781 25.5625 35.132812 27.582031 35.300781 C 27.90625 35.328125 27.9375 35.308594 28.007812 34.984375 C 28.382812 33.242188 27.625 30.925781 25.863281 28.425781 L 25.542969 27.96875 L 25.699219 27.785156 C 28.945312 23.960938 29.132812 18.699219 26.257812 11.96875 L 26.207031 11.84375 L 27.945312 12.703125 C 31.53125 14.476562 32.316406 14.800781 33.03125 14.800781 C 33.976562 14.800781 33.78125 13.9375 32.472656 12.292969 C 28.519531 7.355469 25.394531 5.925781 21.921875 7.472656 L 21.558594 7.636719 L 21.578125 7.542969 C 21.699219 6.992188 21.761719 5.742188 21.699219 5.164062 C 21.496094 3.296875 20.664062 1.964844 19.003906 0.855469 C 18.480469 0.503906 18.457031 0.5 18.214844 0.632812\"/>\n",
              "</g>\n",
              "      </svg>\n",
              "    "
            ]
          },
          "metadata": {}
        },
        {
          "name": "stdout",
          "output_type": "stream",
          "text": [
            "거북이 회전각도 : 45\n",
            "거북이의 이동거리 : 100\n"
          ]
        }
      ]
    }
  ]
}