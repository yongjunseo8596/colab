{
  "nbformat": 4,
  "nbformat_minor": 0,
  "metadata": {
    "colab": {
      "name": "lesson5.ipynb",
      "provenance": [],
      "authorship_tag": "ABX9TyPeuiiXYVN9qKCUN63K9QIK",
      "include_colab_link": true
    },
    "kernelspec": {
      "name": "python3",
      "display_name": "Python 3"
    },
    "language_info": {
      "name": "python"
    }
  },
  "cells": [
    {
      "cell_type": "markdown",
      "metadata": {
        "id": "view-in-github",
        "colab_type": "text"
      },
      "source": [
        "<a href=\"https://colab.research.google.com/github/yongjunseo8596/colab/blob/main/lesson5.ipynb\" target=\"_parent\"><img src=\"https://colab.research.google.com/assets/colab-badge.svg\" alt=\"Open In Colab\"/></a>"
      ]
    },
    {
      "cell_type": "markdown",
      "source": [
        "조건문 : if문"
      ],
      "metadata": {
        "id": "OsW_GJNzQKD0"
      }
    },
    {
      "cell_type": "code",
      "execution_count": 2,
      "metadata": {
        "colab": {
          "base_uri": "https://localhost:8080/"
        },
        "id": "H9OpogZxP-1l",
        "outputId": "7d88d5c5-efd2-4a49-b968-c78b370ae750"
      },
      "outputs": [
        {
          "output_type": "stream",
          "name": "stdout",
          "text": [
            "숫자를 입력해주세요 :10\n",
            "짝수입니다.\n"
          ]
        }
      ],
      "source": [
        "a=int(input(\"숫자를 입력해주세요 :\"))\n",
        "if a % 2 == 0 :\n",
        "  print(\"짝수입니다.\")\n",
        "else :\n",
        "  print(\"홀수입니다.\")"
      ]
    }
  ]
}