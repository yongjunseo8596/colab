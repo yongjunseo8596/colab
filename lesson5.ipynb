{
  "nbformat": 4,
  "nbformat_minor": 0,
  "metadata": {
    "colab": {
      "name": "lesson5.ipynb",
      "provenance": [],
      "authorship_tag": "ABX9TyMIGOztuafPV2UiFGH+hlWf",
      "include_colab_link": true
    },
    "kernelspec": {
      "name": "python3",
      "display_name": "Python 3"
    },
    "language_info": {
      "name": "python"
    }
  },
  "cells": [
    {
      "cell_type": "markdown",
      "metadata": {
        "id": "view-in-github",
        "colab_type": "text"
      },
      "source": [
        "<a href=\"https://colab.research.google.com/github/yongjunseo8596/colab/blob/main/lesson5.ipynb\" target=\"_parent\"><img src=\"https://colab.research.google.com/assets/colab-badge.svg\" alt=\"Open In Colab\"/></a>"
      ]
    },
    {
      "cell_type": "markdown",
      "source": [
        "조건문 : if문"
      ],
      "metadata": {
        "id": "OsW_GJNzQKD0"
      }
    },
    {
      "cell_type": "code",
      "execution_count": null,
      "metadata": {
        "colab": {
          "base_uri": "https://localhost:8080/"
        },
        "id": "H9OpogZxP-1l",
        "outputId": "7d88d5c5-efd2-4a49-b968-c78b370ae750"
      },
      "outputs": [
        {
          "output_type": "stream",
          "name": "stdout",
          "text": [
            "숫자를 입력해주세요 :10\n",
            "짝수입니다.\n"
          ]
        }
      ],
      "source": [
        "a=int(input(\"숫자를 입력해주세요 :\"))\n",
        "if a % 2 == 0 :\n",
        "  print(\"짝수입니다.\")"
      ]
    },
    {
      "cell_type": "markdown",
      "source": [
        "else문"
      ],
      "metadata": {
        "id": "VXketrR8Sgzp"
      }
    },
    {
      "cell_type": "code",
      "source": [
        "a=int(input(\"숫자를 입력해주세요 :\"))\n",
        "if a % 2 == 0 :\n",
        "  print(\"짝수입니다.\")\n",
        "else :\n",
        "  print(\"홀수입니다.\")\n",
        "  "
      ],
      "metadata": {
        "colab": {
          "base_uri": "https://localhost:8080/"
        },
        "id": "s2ZnjgfPSidI",
        "outputId": "c978308e-0e34-43fd-bcbc-0dc78ff673ca"
      },
      "execution_count": 1,
      "outputs": [
        {
          "output_type": "stream",
          "name": "stdout",
          "text": [
            "숫자를 입력해주세요 :32164548976465899489264584557\n",
            "홀수입니다.\n"
          ]
        }
      ]
    },
    {
      "cell_type": "markdown",
      "source": [
        "랜덤함수미니게임"
      ],
      "metadata": {
        "id": "mQNzDqAJS0nH"
      }
    },
    {
      "cell_type": "code",
      "source": [
        "import random\n",
        "a=random.randint(1,100)\n",
        "\n",
        "\n",
        "while a != b :\n",
        "  b=int(input(\"1부터 100까지의 숫자를 입력해주세요.\"))\n",
        "  if a<b :\n",
        "    print(\"숫자가 큽니다.\")\n",
        "    \n",
        "  elif a>b :  \n",
        "    print(\"숫자가 작습니다.\")\n",
        "    \n",
        "  else :\n",
        "    print(\"숫자가 정확합니다!\")\n",
        "\n",
        "\n",
        "  "
      ],
      "metadata": {
        "colab": {
          "base_uri": "https://localhost:8080/"
        },
        "id": "SEnr7rpNS0xo",
        "outputId": "574db464-e051-4c87-b869-498adaeefa73"
      },
      "execution_count": null,
      "outputs": [
        {
          "output_type": "stream",
          "name": "stdout",
          "text": [
            "1부터 100까지의 숫자를 입력해주세요.50\n",
            "숫자가 큽니다.\n",
            "1부터 100까지의 숫자를 입력해주세요.25\n",
            "숫자가 큽니다.\n",
            "1부터 100까지의 숫자를 입력해주세요.12\n",
            "숫자가 작습니다.\n",
            "1부터 100까지의 숫자를 입력해주세요.6\n",
            "숫자가 작습니다.\n"
          ]
        }
      ]
    },
    {
      "cell_type": "markdown",
      "source": [
        "가위바위보게임"
      ],
      "metadata": {
        "id": "FFJGAT6HYFT3"
      }
    },
    {
      "cell_type": "code",
      "source": [
        "import random\n",
        "a1=random.randint(1,3)\n",
        "a = random.choice([\"가위\", \"바위\", \"보\"])\n",
        "print(\"가위 바위 보 게임\")\n",
        "b = input(\"가위/바위/보 중 하나를 입력하세요 ==>\")\n",
        "print(a, b)\n",
        "while count > 0 :\n",
        "  b=input(\"가위/바위/보 중 하나를 입력하세요 ==> \")\n",
        "  if (a==b):\n",
        "    print(\"비겼다\")\n",
        "  elif (b == \"가위\") and (b == \"바위\") \\\n",
        "  (a == \"바위\") and (b == \"보\") \\\n",
        "  (a == \"보\") and (b == \"가위\") :\n",
        "    print(\"이겼다\")\n",
        "\n",
        "  else :\n",
        "    print(\"졌다\")\n",
        "  count = count - 1"
      ],
      "metadata": {
        "id": "nayLJKXxWvt4"
      },
      "execution_count": null,
      "outputs": []
    }
  ]
}